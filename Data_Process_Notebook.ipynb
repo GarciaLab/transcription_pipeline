{
 "cells": [
  {
   "cell_type": "markdown",
   "metadata": {},
   "source": [
    "## Prepare Dataset and Specify Parameters (please only edit cells in this section)"
   ]
  },
  {
   "cell_type": "code",
   "execution_count": 59,
   "metadata": {},
   "outputs": [],
   "source": [
    "# Specify here which steps you want to run below\n",
    "\n",
    "spot_tracking = True\n",
    "\n",
    "nuclear_tracking = True"
   ]
  },
  {
   "cell_type": "code",
   "execution_count": 67,
   "metadata": {},
   "outputs": [
    {
     "data": {
      "text/plain": [
       "['MCP-mSG_His-RFP_RBSPWM(003)_embryo01',\n",
       " 'MCP-mSG_His-RFP_RBSPWM(003)_embryo02',\n",
       " 'MCP-mSG_His-RFP_RBSPWM(003)_embryo03',\n",
       " 'MCP-mSG_His-RFP_RBSPWM(003)_embryo04',\n",
       " 'MCP-mSG_His-RFP_RBSPWM(003)_embryo05']"
      ]
     },
     "execution_count": 67,
     "metadata": {},
     "output_type": "execute_result"
    }
   ],
   "source": [
    "dataset_folder = '/mnt/Data1/Josh/transcription_pipeline/test_data/2025-03-18/'\n",
    "\n",
    "import os\n",
    "folder_list = sorted([entry.name for entry in os.scandir(dataset_folder) if entry.is_dir()])\n",
    "folder_list"
   ]
  },
  {
   "cell_type": "markdown",
   "metadata": {},
   "source": [
    "### Specify the data sets you want to analyze (edit the cell below)"
   ]
  },
  {
   "cell_type": "code",
   "execution_count": 69,
   "metadata": {},
   "outputs": [
    {
     "data": {
      "text/plain": [
       "['MCP-mSG_His-RFP_RBSPWM(003)_embryo03',\n",
       " 'MCP-mSG_His-RFP_RBSPWM(003)_embryo04',\n",
       " 'MCP-mSG_His-RFP_RBSPWM(003)_embryo05']"
      ]
     },
     "execution_count": 69,
     "metadata": {},
     "output_type": "execute_result"
    }
   ],
   "source": [
    "dataset_paths = folder_list[2:5] # Specify here what data sets you want to analyze\n",
    "dataset_paths"
   ]
  },
  {
   "cell_type": "code",
   "execution_count": 70,
   "metadata": {
    "ExecuteTime": {
     "end_time": "2025-02-05T22:55:40.480266Z",
     "start_time": "2025-02-05T22:55:39.472823Z"
    }
   },
   "outputs": [],
   "source": [
    "# Import pipeline\n",
    "from transcription_pipeline import nuclear_pipeline\n",
    "from transcription_pipeline import preprocessing_pipeline\n",
    "\n",
    "from transcription_pipeline import spot_pipeline\n",
    "from transcription_pipeline import fullEmbryo_pipeline\n",
    "\n",
    "from transcription_pipeline.spot_analysis import compile_data\n",
    "from transcription_pipeline.utils import plottable\n",
    "\n",
    "import os\n",
    "import matplotlib.pyplot as plt"
   ]
  },
  {
   "cell_type": "markdown",
   "metadata": {},
   "source": [
    "## Starting a DASK Client for parallel processing"
   ]
  },
  {
   "cell_type": "code",
   "execution_count": 28,
   "metadata": {},
   "outputs": [
    {
     "name": "stderr",
     "output_type": "stream",
     "text": [
      "/mnt/Data1/Josh/miniforge3/envs/transcription_pipeline/lib/python3.10/site-packages/distributed/node.py:182: UserWarning: Port 8787 is already in use.\n",
      "Perhaps you already have a cluster running?\n",
      "Hosting the HTTP server on port 37915 instead\n",
      "  warnings.warn(\n",
      "2025-03-24 15:51:00,206 - distributed.deploy.spec - WARNING - Cluster closed without starting up\n"
     ]
    },
    {
     "name": "stdout",
     "output_type": "stream",
     "text": [
      "Cluster already running\n",
      "<Client: 'tcp://127.0.0.1:37763' processes=14 threads=14, memory=130.39 GiB>\n"
     ]
    },
    {
     "name": "stderr",
     "output_type": "stream",
     "text": [
      "/mnt/Data1/Josh/miniforge3/envs/transcription_pipeline/lib/python3.10/site-packages/distributed/client.py:1388: VersionMismatchWarning: Mismatched versions found\n",
      "\n",
      "+---------+--------+-----------+---------+\n",
      "| Package | Client | Scheduler | Workers |\n",
      "+---------+--------+-----------+---------+\n",
      "| numpy   | 1.24.4 | 1.26.4    | 1.26.4  |\n",
      "| pandas  | 2.0.2  | 2.2.2     | 2.2.2   |\n",
      "| tornado | 6.4.1  | 6.4       | 6.4     |\n",
      "+---------+--------+-----------+---------+\n",
      "  warnings.warn(version_module.VersionMismatchWarning(msg[0][\"warning\"]))\n",
      "/mnt/Data1/Josh/miniforge3/envs/transcription_pipeline/lib/python3.10/site-packages/distributed/client.py:1388: VersionMismatchWarning: Mismatched versions found\n",
      "\n",
      "+---------+--------+-----------+---------+\n",
      "| Package | Client | Scheduler | Workers |\n",
      "+---------+--------+-----------+---------+\n",
      "| numpy   | 1.24.4 | 1.26.4    | 1.26.4  |\n",
      "| pandas  | 2.0.2  | 2.2.2     | 2.2.2   |\n",
      "| tornado | 6.4.1  | 6.4       | 6.4     |\n",
      "+---------+--------+-----------+---------+\n",
      "  warnings.warn(version_module.VersionMismatchWarning(msg[0][\"warning\"]))\n"
     ]
    }
   ],
   "source": [
    "from dask.distributed import LocalCluster, Client\n",
    "\n",
    "try:\n",
    "    cluster = LocalCluster(\n",
    "        host=\"localhost\",\n",
    "        scheduler_port=37763,\n",
    "        threads_per_worker=1,\n",
    "        n_workers=14,\n",
    "        memory_limit=\"6GB\",\n",
    "    )\n",
    "    \n",
    "    client = Client(cluster)\n",
    "except:\n",
    "    print(\"Cluster already running\")\n",
    "    client = Client('localhost:37763')\n",
    "\n",
    "print(client)"
   ]
  },
  {
   "cell_type": "code",
   "execution_count": 29,
   "metadata": {},
   "outputs": [
    {
     "name": "stdout",
     "output_type": "stream",
     "text": [
      "http://localhost:8787/status\n"
     ]
    }
   ],
   "source": [
    "client.restart()\n",
    "# client.shutdown()\n",
    "print(client.dashboard_link)"
   ]
  },
  {
   "cell_type": "markdown",
   "metadata": {},
   "source": [
    "## Loop over all the data sets"
   ]
  },
  {
   "cell_type": "code",
   "execution_count": 78,
   "metadata": {},
   "outputs": [
    {
     "name": "stdout",
     "output_type": "stream",
     "text": [
      "Process data for: /mnt/Data1/Josh/transcription_pipeline/test_data/2025-03-18/MCP-mSG_His-RFP_RBSPWM(003)_embryo03\n",
      "Import MS2 from previous zarr files: True\n",
      "Import full embryo from previous zarr files: False\n",
      "Error: list index out of range\n",
      "Do nuclear tracking for the dataset\n",
      "Error: list index out of range\n",
      "Do spot tracking for the dataset\n",
      "Error: list index out of range\n",
      "\n",
      "\n",
      "Process data for: /mnt/Data1/Josh/transcription_pipeline/test_data/2025-03-18/MCP-mSG_His-RFP_RBSPWM(003)_embryo04\n",
      "Import MS2 from previous zarr files: False\n",
      "Import full embryo from previous zarr files: False\n",
      "Error: list index out of range\n",
      "Do nuclear tracking for the dataset\n",
      "Error: [Errno 13] Permission denied: '/mnt/Data1/Josh/transcription_pipeline/test_data/2025-03-18/MCP-mSG_His-RFP_RBSPWM(003)_embryo04/nuclear_analysis_results/segmentation.zarr/0.0.0.0.2f475128d4ac4a64b82595c61a25aaab.partial'\n",
      "Do spot tracking for the dataset\n",
      "Error: [Errno 13] Permission denied: '/mnt/Data1/Josh/transcription_pipeline/test_data/2025-03-18/MCP-mSG_His-RFP_RBSPWM(003)_embryo04/spot_analysis_results/spot_labels.zarr/28.0.0.0.23bb07893a74496e8e4f8c3ccda0ebba.partial'\n",
      "\n",
      "\n",
      "Process data for: /mnt/Data1/Josh/transcription_pipeline/test_data/2025-03-18/MCP-mSG_His-RFP_RBSPWM(003)_embryo05\n",
      "Import MS2 from previous zarr files: False\n",
      "Import full embryo from previous zarr files: False\n",
      "Error: list index out of range\n",
      "Do nuclear tracking for the dataset\n",
      "Error: [Errno 13] Permission denied: '/mnt/Data1/Josh/transcription_pipeline/test_data/2025-03-18/MCP-mSG_His-RFP_RBSPWM(003)_embryo05/nuclear_analysis_results/segmentation.zarr/7.0.0.0.2d383b02051344cea090a040e8a8a579.partial'\n",
      "Do spot tracking for the dataset\n",
      "Error: [Errno 13] Permission denied: '/mnt/Data1/Josh/transcription_pipeline/test_data/2025-03-18/MCP-mSG_His-RFP_RBSPWM(003)_embryo05/spot_analysis_results/spot_labels.zarr/14.0.0.0.a09182fb29bb4e5eb380e4250722f31f.partial'\n",
      "\n",
      "\n"
     ]
    }
   ],
   "source": [
    "for i in range(len(dataset_paths)):\n",
    "    \n",
    "    #------------------------------\n",
    "    try:\n",
    "        test_dataset_name = dataset_folder + dataset_paths[i]\n",
    "        print('Process data for: ' + test_dataset_name)\n",
    "\n",
    "        # Import MS2 dataset\n",
    "        # Detect whether the MS2 dataset has already been converted into `zarr` files\n",
    "        ms2_import_previous = os.path.isdir(test_dataset_name + '/collated_dataset')\n",
    "        print('Import MS2 from previous zarr files: ' + str(ms2_import_previous))\n",
    "    \n",
    "        dataset = preprocessing_pipeline.DataImport(\n",
    "            name_folder=test_dataset_name,\n",
    "            trim_series=True,\n",
    "            working_storage_mode='zarr',\n",
    "            import_previous=ms2_import_previous, \n",
    "        )\n",
    "\n",
    "        if not ms2_import_previous:\n",
    "            dataset.save()\n",
    "\n",
    "    except Exception as e:\n",
    "        print('Error:', e)\n",
    "\n",
    "    \n",
    "    #------------------------------\n",
    "    try:\n",
    "        # Import FullEmbryo dataset\n",
    "        # Detect whether the FullEmbryo dataset has already been converted into `zarr` files\n",
    "        fullembryo_import_previous = os.path.isdir(test_dataset_name + '/preprocessed_full_embryo')\n",
    "        print('Import full embryo from previous zarr files: ' + str(fullembryo_import_previous))\n",
    "    \n",
    "        FullEmbryo_dataset = preprocessing_pipeline.FullEmbryoImport(\n",
    "            name_folder=test_dataset_name,\n",
    "            import_previous=fullembryo_import_previous\n",
    "        )\n",
    "    \n",
    "        if not fullembryo_import_previous:\n",
    "            FullEmbryo_dataset.save()\n",
    "\n",
    "    except Exception as e:\n",
    "        print('Error:', e)\n",
    "    \n",
    "\n",
    "    #------------------------------\n",
    "    try:\n",
    "        # Nuclear Tracking\n",
    "        if nuclear_tracking:\n",
    "            # Detect whether the nuclear tracking has been done \"previously.\" If so, load the previous results.\n",
    "            nuclear_tracking_previous = os.path.isdir(test_dataset_name + '/nuclear_analysis_results')\n",
    "\n",
    "            if nuclear_tracking_previous:\n",
    "                # Load nuclear tracking results\n",
    "                print('Load from previous nuclear tracking results')\n",
    "                \n",
    "                nuclear_tracking = nuclear_pipeline.Nuclear()\n",
    "                nuclear_tracking.read_results(name_folder=test_dataset_name)\n",
    "                \n",
    "            else:\n",
    "                # Do nuclear tracking and save the results\n",
    "                print('Do nuclear tracking for the dataset')\n",
    "                \n",
    "                nuclear_tracking = nuclear_pipeline.Nuclear(\n",
    "                    data=dataset.channels_full_dataset[0],\n",
    "                    global_metadata=dataset.export_global_metadata[0],\n",
    "                    frame_metadata=dataset.export_frame_metadata[0],\n",
    "                    series_splits=dataset.series_splits,\n",
    "                    series_shifts=dataset.series_shifts,\n",
    "                    search_range_um=1.5,\n",
    "                    stitch=False,\n",
    "                    stitch_max_distance=4,\n",
    "                    stitch_max_frame_distance=2,\n",
    "                    client=client,\n",
    "                    keep_futures=False,\n",
    "                )\n",
    "                \n",
    "                nuclear_tracking.track_nuclei(\n",
    "                        working_memory_mode=\"zarr\",\n",
    "                        working_memory_folder=test_dataset_name,\n",
    "                        trackpy_log_path=\"\".join([test_dataset_name, \"trackpy_log\"]),\n",
    "                    )\n",
    "                    # Saves tracked nuclear mask as a zarr, and pickles dataframes with segmentation and\n",
    "                    # tracking information.\n",
    "                nuclear_tracking.save_results(\n",
    "                        name_folder=test_dataset_name, save_array_as=None\n",
    "                    )\n",
    "\n",
    "    except Exception as e:\n",
    "        print('Error:', e)\n",
    "\n",
    "\n",
    "    #------------------------------\n",
    "    try:\n",
    "        # Spot Tracking\n",
    "        if spot_tracking:\n",
    "            spot_tracking_previous = os.path.isdir(test_dataset_name + '/spot_analysis_results')\n",
    "\n",
    "            if spot_tracking_previous:\n",
    "                # Load spot tracking results\n",
    "                print('Load from spot tracking results')\n",
    "                \n",
    "                spot_tracking = spot_pipeline.Spot()\n",
    "                spot_tracking.read_results(name_folder=test_dataset_name)\n",
    "                \n",
    "            else:\n",
    "                # Do spot tracking and save the results\n",
    "                print('Do spot tracking for the dataset')\n",
    "                \n",
    "                spot_tracking = spot_pipeline.Spot(\n",
    "                    data=dataset.channels_full_dataset[1],\n",
    "                    global_metadata=dataset.export_global_metadata[1],\n",
    "                    frame_metadata=dataset.export_frame_metadata[1],\n",
    "                    labels=None,#nuclear_tracking.reordered_labels,\n",
    "                    expand_distance=3,\n",
    "                    search_range_um=4.2,\n",
    "                    retrack_search_range_um=4.5,\n",
    "                    threshold_factor=1.3,\n",
    "                    memory=3,\n",
    "                    retrack_after_filter=False,\n",
    "                    stitch=True,\n",
    "                    min_track_length=0,\n",
    "                    series_splits=dataset.series_splits,\n",
    "                    series_shifts=dataset.series_shifts,\n",
    "                    keep_bandpass=False,\n",
    "                    keep_futures=False,\n",
    "                    keep_spot_labels=False,\n",
    "                    evaluate=True,\n",
    "                    retrack_by_intensity=True,\n",
    "                    client=client,\n",
    "                )\n",
    "                \n",
    "                spot_tracking.extract_spot_traces(\n",
    "                    working_memory_folder=test_dataset_name, \n",
    "                    stitch=True,\n",
    "                    retrack_after_filter=True,\n",
    "                    trackpy_log_path = test_dataset_name+'/trackpy_log'\n",
    "                )\n",
    "                \n",
    "                # Saves tracked spot mask as a zarr, and pickles dataframes with spot fitting and\n",
    "                # quantification information.\n",
    "                spot_tracking.save_results(name_folder=test_dataset_name, save_array_as=None)\n",
    "\n",
    "    except Exception as e:\n",
    "        print('Error:', e)\n",
    "\n",
    "    print('\\n')"
   ]
  }
 ],
 "metadata": {
  "kernelspec": {
   "display_name": "Python 3 (ipykernel)",
   "language": "python",
   "name": "python3"
  },
  "language_info": {
   "codemirror_mode": {
    "name": "ipython",
    "version": 3
   },
   "file_extension": ".py",
   "mimetype": "text/x-python",
   "name": "python",
   "nbconvert_exporter": "python",
   "pygments_lexer": "ipython3",
   "version": "3.10.11"
  }
 },
 "nbformat": 4,
 "nbformat_minor": 4
}
