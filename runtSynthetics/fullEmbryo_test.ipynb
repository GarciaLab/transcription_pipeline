{
 "cells": [
  {
   "metadata": {},
   "cell_type": "code",
   "outputs": [],
   "execution_count": null,
   "source": [
    "from transcription_pipeline import fullEmbryo_pipeline\n",
    "import matplotlib as mpl\n",
    "mpl.use('TkAgg')"
   ],
   "id": "7de9d1a2902a2ab6"
  },
  {
   "cell_type": "code",
   "execution_count": null,
   "id": "initial_id",
   "metadata": {
    "collapsed": true
   },
   "outputs": [],
   "source": [
    "dataset_folder = '/mnt/Data1/Nick/transcription_pipeline/'\n",
    "\n",
    "embryo_list = [\n",
    "    'test_data/NSPARC/2025-03-31/MCP-mSG_His-RFP_Var2(001)_embryo01',\n",
    "    'test_data/NSPARC/2025-03-31/MCP-mSG_His-RFP_Var2(001)_embryo02',\n",
    "    'test_data/NSPARC/2025-04-01/MCP-mSG_His-RFP_Var2(001)_embryo20',\n",
    "    'test_data/NSPARC/2025-04-01/MCP-mSG_His-RFP_Var2(001)_embryo38',\n",
    "]\n",
    "\n",
    "test_dataset_name = dataset_folder + embryo_list[0]\n",
    "print('Dataset Path: ' + test_dataset_name)"
   ]
  },
  {
   "metadata": {},
   "cell_type": "code",
   "outputs": [],
   "execution_count": null,
   "source": [
    "dataset = preprocessing_pipeline.DataImport(\n",
    "    name_folder=test_dataset_name,\n",
    "    trim_series=True,\n",
    "    working_storage_mode='zarr',\n",
    "    import_previous=ms2_import_previous, \n",
    ")\n",
    "if not ms2_import_previous:\n",
    "    dataset.save()"
   ],
   "id": "493d4a9f0fe59730"
  },
  {
   "metadata": {},
   "cell_type": "code",
   "outputs": [],
   "execution_count": null,
   "source": [
    "FullEmbryo_dataset = preprocessing_pipeline.FullEmbryoImport(\n",
    "    name_folder=test_dataset_name,\n",
    "    import_previous=True\n",
    ")"
   ],
   "id": "364886e507685935"
  },
  {
   "metadata": {},
   "cell_type": "code",
   "outputs": [],
   "execution_count": null,
   "source": "",
   "id": "61010a5a8b700e31"
  },
  {
   "metadata": {},
   "cell_type": "code",
   "outputs": [],
   "execution_count": null,
   "source": [
    "# Specify nuclear channel and spot channel\n",
    "nuclear_channel = 1\n",
    "spot_channel = 0\n",
    "\n",
    "\n",
    "fullEmbryo = fullEmbryo_pipeline.FullEmbryo(FullEmbryo_dataset, dataset, his_channel=nuclear_channel)"
   ],
   "id": "6f78bf58ce4da809"
  }
 ],
 "metadata": {
  "kernelspec": {
   "display_name": "Python 3",
   "language": "python",
   "name": "python3"
  },
  "language_info": {
   "codemirror_mode": {
    "name": "ipython",
    "version": 2
   },
   "file_extension": ".py",
   "mimetype": "text/x-python",
   "name": "python",
   "nbconvert_exporter": "python",
   "pygments_lexer": "ipython2",
   "version": "2.7.6"
  }
 },
 "nbformat": 4,
 "nbformat_minor": 5
}
