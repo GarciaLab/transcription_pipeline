{
 "cells": [
  {
   "cell_type": "code",
   "id": "initial_id",
   "metadata": {
    "collapsed": true,
    "ExecuteTime": {
     "end_time": "2025-05-08T21:13:06.906311Z",
     "start_time": "2025-05-08T21:13:06.840325Z"
    }
   },
   "source": [
    "from transcription_pipeline.RateExtraction import FitAndAverage\n",
    "import pandas as pd\n",
    "import matplotlib as mpl\n",
    "mpl.use('TkAgg')"
   ],
   "outputs": [
    {
     "name": "stderr",
     "output_type": "stream",
     "text": [
      "/tmp/ipykernel_2940974/3084296135.py:4: MatplotlibDeprecationWarning: Auto-close()ing of figures upon backend switching is deprecated since 3.8 and will be removed in 3.10.  To suppress this warning, explicitly call plt.close('all') first.\n",
      "  mpl.use('TkAgg')\n"
     ]
    }
   ],
   "execution_count": 32
  },
  {
   "metadata": {
    "ExecuteTime": {
     "end_time": "2025-05-08T21:13:06.951333Z",
     "start_time": "2025-05-08T21:13:06.948837Z"
    }
   },
   "cell_type": "code",
   "source": [
    "dataset_folder = '/mnt/Data1/Nick/transcription_pipeline/'\n",
    "\n",
    "# embryo_list = [\n",
    "#     'test_data/NSPARC/2025-03-31/MCP-mSG_His-RFP_Var2(001)_embryo01',\n",
    "#     'test_data/NSPARC/2025-03-31/MCP-mSG_His-RFP_Var2(001)_embryo02',\n",
    "#     'test_data/NSPARC/2025-04-01/MCP-mSG_His-RFP_Var2(001)_embryo20',\n",
    "#     'test_data/NSPARC/2025-04-01/MCP-mSG_His-RFP_Var2(001)_embryo38',\n",
    "# ]\n",
    "\n",
    "embryo_list = [\n",
    "    'test_data/NSPARC/2025-04-14/MCP-mSG_His-RFP_Var2(001)_embryo28',\n",
    "    'test_data/NSPARC/2025-04-15/MCP-mSG_His-RFP_Var2(001)_embryo01',\n",
    "]\n",
    "\n",
    "# 23C embryos from 2025-04-22\n",
    "# embryo_list = [\n",
    "#     'test_data/NSPARC/2025-04-22/MCP-mSG_His-RFP_Var2(001)_embryo01_22.8C',\n",
    "#     'test_data/NSPARC/2025-04-22/MCP-mSG_His-RFP_Var2(001)_embryo02_23C',\n",
    "# ]\n",
    "\n",
    "test_dataset_name = dataset_folder + embryo_list[1]\n",
    "print('Dataset Path: ' + test_dataset_name)"
   ],
   "id": "b543b9028e6fc28a",
   "outputs": [
    {
     "name": "stdout",
     "output_type": "stream",
     "text": [
      "Dataset Path: /mnt/Data1/Nick/transcription_pipeline/test_data/NSPARC/2025-04-15/MCP-mSG_His-RFP_Var2(001)_embryo01\n"
     ]
    }
   ],
   "execution_count": 33
  },
  {
   "metadata": {
    "ExecuteTime": {
     "end_time": "2025-05-08T21:13:07.021576Z",
     "start_time": "2025-05-08T21:13:07.009708Z"
    }
   },
   "cell_type": "code",
   "source": [
    "# Specify here at what frame NC14 starts\n",
    "nc14_start_frame = 0\n",
    "\n",
    "# Any trace with frame number smaller than min_frames will be filtered out\n",
    "min_frames = 40\n",
    "\n",
    "# Number of bins you want to split the full embryo into\n",
    "num_bins = 40\n",
    "\n",
    "# Load in compiled dataframe\n",
    "dataframe_path = test_dataset_name + '/compiled_dataframe.pkl'\n",
    "compiled_dataframe = pd.read_pickle(dataframe_path)"
   ],
   "id": "35f368e5784002ca",
   "outputs": [],
   "execution_count": 34
  },
  {
   "metadata": {
    "ExecuteTime": {
     "end_time": "2025-05-08T21:13:07.084867Z",
     "start_time": "2025-05-08T21:13:07.069471Z"
    }
   },
   "cell_type": "code",
   "source": "compiled_dataframe.head()",
   "id": "e037baeadcc09ac4",
   "outputs": [
    {
     "data": {
      "text/plain": [
       "   particle                                              frame  \\\n",
       "0         1  [110, 111, 112, 113, 114, 115, 116, 117, 118, ...   \n",
       "1         2  [101, 102, 103, 104, 105, 106, 107, 108, 109, ...   \n",
       "2         3  [148, 149, 150, 151, 152, 153, 154, 155, 156, ...   \n",
       "3         4  [91, 92, 94, 95, 96, 97, 98, 99, 100, 101, 103...   \n",
       "4         5                                              [398]   \n",
       "\n",
       "                                                 t_s  \\\n",
       "0  [225.99748170000314, 227.84660769999027, 229.8...   \n",
       "1  [207.96456869995595, 210.16154869997501, 212.1...   \n",
       "2  [303.0455896999836, 305.06865169996024, 307.09...   \n",
       "3  [187.5605097000003, 189.58356069999934, 193.45...   \n",
       "4                                 [807.926200699985]   \n",
       "\n",
       "                         intensity_from_neighborhood  \\\n",
       "0  [157.37707766990295, 101.71015384615384, 108.7...   \n",
       "1  [4.359766497461924, 146.42396000000002, 73.675...   \n",
       "2  [76.22412307692308, 139.1336732673267, 130.680...   \n",
       "3  [155.72028712871287, 177.6803981042654, 163.23...   \n",
       "4                                [95.50177653631285]   \n",
       "\n",
       "               intensity_std_error_from_neighborhood  \\\n",
       "0  [33.5523349866976, 34.45257100668127, 35.93278...   \n",
       "1  [35.519668019361085, 33.377966245989285, 31.87...   \n",
       "2  [34.78847615554738, 31.79465088454366, 36.2417...   \n",
       "3  [34.65782268291222, 30.949131311835092, 35.997...   \n",
       "4                               [42.641268063290276]   \n",
       "\n",
       "                                                   x  \\\n",
       "0  [489.0639876646621, 488.5996227994474, 486.847...   \n",
       "1  [316.36840453796435, 315.89934594358954, 317.1...   \n",
       "2  [326.5476693003143, 326.9150567184827, 327.541...   \n",
       "3  [537.0341557201449, 534.7041136710144, 535.854...   \n",
       "4                                [688.7642771232084]   \n",
       "\n",
       "                                                   y  \\\n",
       "0  [87.84563888845233, 88.83072024843119, 89.1941...   \n",
       "1  [143.55095315995163, 144.02878328907104, 144.4...   \n",
       "2  [7.169704667310069, 7.186175965924187, 8.57455...   \n",
       "3  [25.460471518105393, 24.651306613747767, 24.28...   \n",
       "4                               [136.49293900175437]   \n",
       "\n",
       "                                                  ap  \\\n",
       "0  [-0.289496631467526, -0.2896057480219712, -0.2...   \n",
       "1  [-0.3444053227696788, -0.3445393989004133, -0....   \n",
       "2  [-0.34730805901148676, -0.34718502197717666, -...   \n",
       "3  [-0.27640832131567544, -0.2772211508608799, -0...   \n",
       "4                              [-0.2207866365201565]   \n",
       "\n",
       "                                                ap90  \n",
       "0  [-0.014706675639748139, -0.013859866225173193,...  \n",
       "1  [0.049555230341443844, 0.04999325430807476, 0....  \n",
       "2  [-0.06163163586453493, -0.061659429204197806, ...  \n",
       "3  [-0.07041083897006946, -0.07080320421565355, -...  \n",
       "4                            [0.0022155685481988416]  "
      ],
      "text/html": [
       "<div>\n",
       "<style scoped>\n",
       "    .dataframe tbody tr th:only-of-type {\n",
       "        vertical-align: middle;\n",
       "    }\n",
       "\n",
       "    .dataframe tbody tr th {\n",
       "        vertical-align: top;\n",
       "    }\n",
       "\n",
       "    .dataframe thead th {\n",
       "        text-align: right;\n",
       "    }\n",
       "</style>\n",
       "<table border=\"1\" class=\"dataframe\">\n",
       "  <thead>\n",
       "    <tr style=\"text-align: right;\">\n",
       "      <th></th>\n",
       "      <th>particle</th>\n",
       "      <th>frame</th>\n",
       "      <th>t_s</th>\n",
       "      <th>intensity_from_neighborhood</th>\n",
       "      <th>intensity_std_error_from_neighborhood</th>\n",
       "      <th>x</th>\n",
       "      <th>y</th>\n",
       "      <th>ap</th>\n",
       "      <th>ap90</th>\n",
       "    </tr>\n",
       "  </thead>\n",
       "  <tbody>\n",
       "    <tr>\n",
       "      <th>0</th>\n",
       "      <td>1</td>\n",
       "      <td>[110, 111, 112, 113, 114, 115, 116, 117, 118, ...</td>\n",
       "      <td>[225.99748170000314, 227.84660769999027, 229.8...</td>\n",
       "      <td>[157.37707766990295, 101.71015384615384, 108.7...</td>\n",
       "      <td>[33.5523349866976, 34.45257100668127, 35.93278...</td>\n",
       "      <td>[489.0639876646621, 488.5996227994474, 486.847...</td>\n",
       "      <td>[87.84563888845233, 88.83072024843119, 89.1941...</td>\n",
       "      <td>[-0.289496631467526, -0.2896057480219712, -0.2...</td>\n",
       "      <td>[-0.014706675639748139, -0.013859866225173193,...</td>\n",
       "    </tr>\n",
       "    <tr>\n",
       "      <th>1</th>\n",
       "      <td>2</td>\n",
       "      <td>[101, 102, 103, 104, 105, 106, 107, 108, 109, ...</td>\n",
       "      <td>[207.96456869995595, 210.16154869997501, 212.1...</td>\n",
       "      <td>[4.359766497461924, 146.42396000000002, 73.675...</td>\n",
       "      <td>[35.519668019361085, 33.377966245989285, 31.87...</td>\n",
       "      <td>[316.36840453796435, 315.89934594358954, 317.1...</td>\n",
       "      <td>[143.55095315995163, 144.02878328907104, 144.4...</td>\n",
       "      <td>[-0.3444053227696788, -0.3445393989004133, -0....</td>\n",
       "      <td>[0.049555230341443844, 0.04999325430807476, 0....</td>\n",
       "    </tr>\n",
       "    <tr>\n",
       "      <th>2</th>\n",
       "      <td>3</td>\n",
       "      <td>[148, 149, 150, 151, 152, 153, 154, 155, 156, ...</td>\n",
       "      <td>[303.0455896999836, 305.06865169996024, 307.09...</td>\n",
       "      <td>[76.22412307692308, 139.1336732673267, 130.680...</td>\n",
       "      <td>[34.78847615554738, 31.79465088454366, 36.2417...</td>\n",
       "      <td>[326.5476693003143, 326.9150567184827, 327.541...</td>\n",
       "      <td>[7.169704667310069, 7.186175965924187, 8.57455...</td>\n",
       "      <td>[-0.34730805901148676, -0.34718502197717666, -...</td>\n",
       "      <td>[-0.06163163586453493, -0.061659429204197806, ...</td>\n",
       "    </tr>\n",
       "    <tr>\n",
       "      <th>3</th>\n",
       "      <td>4</td>\n",
       "      <td>[91, 92, 94, 95, 96, 97, 98, 99, 100, 101, 103...</td>\n",
       "      <td>[187.5605097000003, 189.58356069999934, 193.45...</td>\n",
       "      <td>[155.72028712871287, 177.6803981042654, 163.23...</td>\n",
       "      <td>[34.65782268291222, 30.949131311835092, 35.997...</td>\n",
       "      <td>[537.0341557201449, 534.7041136710144, 535.854...</td>\n",
       "      <td>[25.460471518105393, 24.651306613747767, 24.28...</td>\n",
       "      <td>[-0.27640832131567544, -0.2772211508608799, -0...</td>\n",
       "      <td>[-0.07041083897006946, -0.07080320421565355, -...</td>\n",
       "    </tr>\n",
       "    <tr>\n",
       "      <th>4</th>\n",
       "      <td>5</td>\n",
       "      <td>[398]</td>\n",
       "      <td>[807.926200699985]</td>\n",
       "      <td>[95.50177653631285]</td>\n",
       "      <td>[42.641268063290276]</td>\n",
       "      <td>[688.7642771232084]</td>\n",
       "      <td>[136.49293900175437]</td>\n",
       "      <td>[-0.2207866365201565]</td>\n",
       "      <td>[0.0022155685481988416]</td>\n",
       "    </tr>\n",
       "  </tbody>\n",
       "</table>\n",
       "</div>"
      ]
     },
     "execution_count": 35,
     "metadata": {},
     "output_type": "execute_result"
    }
   ],
   "execution_count": 35
  },
  {
   "metadata": {
    "ExecuteTime": {
     "end_time": "2025-05-08T21:13:07.163653Z",
     "start_time": "2025-05-08T21:13:07.156308Z"
    }
   },
   "cell_type": "code",
   "source": "faadata = FitAndAverage(compiled_dataframe, nc14_start_frame, min_frames, num_bins, test_dataset_name)",
   "id": "82bde78c1d58c279",
   "outputs": [
    {
     "name": "stdout",
     "output_type": "stream",
     "text": [
      "Load previous particle trace fit checking results from \"particle_fits_checked.pkl\"\n"
     ]
    }
   ],
   "execution_count": 36
  },
  {
   "metadata": {
    "ExecuteTime": {
     "end_time": "2025-05-08T21:13:07.337123Z",
     "start_time": "2025-05-08T21:13:07.230561Z"
    }
   },
   "cell_type": "code",
   "source": [
    "mpl.use('TkAgg')\n",
    "faadata.check_particle_fits()"
   ],
   "id": "4f72e7f20f455aba",
   "outputs": [
    {
     "name": "stderr",
     "output_type": "stream",
     "text": [
      "/mnt/Data1/Josh/transcription_pipeline/transcription_pipeline/RateExtraction_old.py:556: UserWarning: No particle has been left unchecked\n",
      "  warn('No particle has been left unchecked')\n"
     ]
    }
   ],
   "execution_count": 37
  },
  {
   "metadata": {
    "ExecuteTime": {
     "end_time": "2025-05-08T21:13:07.398742Z",
     "start_time": "2025-05-08T21:13:07.396720Z"
    }
   },
   "cell_type": "code",
   "source": "faadata.save_checked_particle_fits()",
   "id": "ea4485aa93f1cc15",
   "outputs": [
    {
     "name": "stdout",
     "output_type": "stream",
     "text": [
      "No changes made to the particle fit checking results\n"
     ]
    }
   ],
   "execution_count": 38
  },
  {
   "metadata": {
    "ExecuteTime": {
     "end_time": "2025-05-08T21:13:07.466915Z",
     "start_time": "2025-05-08T21:13:07.459435Z"
    }
   },
   "cell_type": "code",
   "source": [
    "# Load checked particle fits\n",
    "fits_path = test_dataset_name + '/particle_fits_checked.pkl'\n",
    "particle_fits_checked = pd.read_pickle(fits_path)"
   ],
   "id": "c2fd2dec9ad02a4e",
   "outputs": [],
   "execution_count": 39
  },
  {
   "metadata": {
    "ExecuteTime": {
     "end_time": "2025-05-08T21:13:07.539669Z",
     "start_time": "2025-05-08T21:13:07.517954Z"
    }
   },
   "cell_type": "code",
   "source": "particle_fits_checked.head()",
   "id": "32c5bc705f38dd6b",
   "outputs": [
    {
     "data": {
      "text/plain": [
       "   index  particle                                              frame  \\\n",
       "0      0       252  [306, 307, 309, 312, 313, 315, 317, 318, 321, ...   \n",
       "1      1         6  [311, 312, 313, 314, 315, 316, 317, 318, 319, ...   \n",
       "2      2       228  [198, 200, 201, 202, 203, 204, 205, 206, 207, ...   \n",
       "3      3       174  [229, 232, 235, 237, 238, 239, 240, 241, 242, ...   \n",
       "4      4        96  [181, 183, 184, 185, 187, 188, 189, 191, 192, ...   \n",
       "\n",
       "                                                 t_s  \\\n",
       "0  [623.9200436999798, 625.9430137000084, 629.988...   \n",
       "1  [632.6210636999607, 634.6440336999893, 636.667...   \n",
       "2  [404.195771699965, 408.06773269999024, 410.264...   \n",
       "3  [466.7347687000036, 472.8038786999583, 478.872...   \n",
       "4  [370.3267566999793, 374.19871269994974, 376.39...   \n",
       "\n",
       "                         intensity_from_neighborhood  \\\n",
       "0  [33.23363265306123, 55.49694300518135, 113.081...   \n",
       "1  [91.57111764705883, 120.43426500000001, 111.47...   \n",
       "2  [86.53047150259067, 140.2266526315789, 133.360...   \n",
       "3  [65.89293719806764, 61.47283163265306, 98.5494...   \n",
       "4  [84.5221707317073, 96.49605472636817, 96.31759...   \n",
       "\n",
       "               intensity_std_error_from_neighborhood  \\\n",
       "0  [26.775330848826872, 25.820858103433924, 25.48...   \n",
       "1  [24.55913891912079, 27.710188609693276, 26.809...   \n",
       "2  [27.01675707741251, 25.541903942456027, 29.375...   \n",
       "3  [27.441336539152157, 27.28272196138455, 23.640...   \n",
       "4  [29.015894613564154, 28.84864934403, 28.851019...   \n",
       "\n",
       "                                                   x  \\\n",
       "0  [20.585547927682832, 20.801198122869287, 18.87...   \n",
       "1  [40.55137489680222, 39.952891876548776, 40.341...   \n",
       "2  [50.290845792689154, 50.88648598112224, 50.688...   \n",
       "3  [48.83205493517661, 48.94952741922207, 47.7030...   \n",
       "4  [85.92347384660843, 85.83848854302039, 87.2151...   \n",
       "\n",
       "                                                   y  \\\n",
       "0  [204.1987528756761, 203.2625645289942, 207.421...   \n",
       "1  [80.71102858415787, 82.22144943746963, 81.5163...   \n",
       "2  [158.71204727146267, 159.46310124706267, 160.3...   \n",
       "3  [84.60751307966582, 85.13390363783085, 85.6797...   \n",
       "4  [208.58692269885142, 210.82216083748656, 210.7...   \n",
       "\n",
       "                                                  ap  \\\n",
       "0  [-0.4400530841736533, -0.4400244919097544, -0....   \n",
       "1  [-0.439103842112803, -0.43923336541220553, -0....   \n",
       "2  [-0.43226440228433194, -0.43203151283997937, -...   \n",
       "3  [-0.4361680610600648, -0.43610468259755286, -0...   \n",
       "4  [-0.41810430281165323, -0.41802948627298525, -...   \n",
       "\n",
       "                                                ap90  \\\n",
       "0  [0.13156996683826916, 0.13079042344880099, 0.1...   \n",
       "1  [0.029692707034158453, 0.030978420753719423, 0...   \n",
       "2  [0.09154401336813969, 0.09208344315660653, 0.0...   \n",
       "3  [0.03191083709437398, 0.03232245455381416, 0.0...   \n",
       "4  [0.1278042284755675, 0.12961738697412897, 0.12...   \n",
       "\n",
       "                                         fit_results modified_fit_results  \\\n",
       "0  [[623.9200436999798], [623.9200436999798, 623....                 None   \n",
       "1  [[632.6210636999607, 634.6440336999893, 636.66...                 None   \n",
       "2  [[404.195771699965, 408.06773269999024, 410.26...                 None   \n",
       "3  [[466.7347687000036, 472.8038786999583, 478.87...                 None   \n",
       "4  [[370.3267566999793, 374.19871269994974, 376.3...                 None   \n",
       "\n",
       "                                   tv_denoised_trace  approval_status  \n",
       "0  [86.66704996710473, 86.57091149892292, 86.7064...               -1  \n",
       "1  [166.07175161197296, 167.01136099758025, 168.9...                1  \n",
       "2  [173.9565711984111, 175.24327136936438, 177.88...                1  \n",
       "3  [115.96052796784338, 116.18879874046448, 116.6...               -1  \n",
       "4  [118.2200406715186, 118.43894453898801, 118.88...                1  "
      ],
      "text/html": [
       "<div>\n",
       "<style scoped>\n",
       "    .dataframe tbody tr th:only-of-type {\n",
       "        vertical-align: middle;\n",
       "    }\n",
       "\n",
       "    .dataframe tbody tr th {\n",
       "        vertical-align: top;\n",
       "    }\n",
       "\n",
       "    .dataframe thead th {\n",
       "        text-align: right;\n",
       "    }\n",
       "</style>\n",
       "<table border=\"1\" class=\"dataframe\">\n",
       "  <thead>\n",
       "    <tr style=\"text-align: right;\">\n",
       "      <th></th>\n",
       "      <th>index</th>\n",
       "      <th>particle</th>\n",
       "      <th>frame</th>\n",
       "      <th>t_s</th>\n",
       "      <th>intensity_from_neighborhood</th>\n",
       "      <th>intensity_std_error_from_neighborhood</th>\n",
       "      <th>x</th>\n",
       "      <th>y</th>\n",
       "      <th>ap</th>\n",
       "      <th>ap90</th>\n",
       "      <th>fit_results</th>\n",
       "      <th>modified_fit_results</th>\n",
       "      <th>tv_denoised_trace</th>\n",
       "      <th>approval_status</th>\n",
       "    </tr>\n",
       "  </thead>\n",
       "  <tbody>\n",
       "    <tr>\n",
       "      <th>0</th>\n",
       "      <td>0</td>\n",
       "      <td>252</td>\n",
       "      <td>[306, 307, 309, 312, 313, 315, 317, 318, 321, ...</td>\n",
       "      <td>[623.9200436999798, 625.9430137000084, 629.988...</td>\n",
       "      <td>[33.23363265306123, 55.49694300518135, 113.081...</td>\n",
       "      <td>[26.775330848826872, 25.820858103433924, 25.48...</td>\n",
       "      <td>[20.585547927682832, 20.801198122869287, 18.87...</td>\n",
       "      <td>[204.1987528756761, 203.2625645289942, 207.421...</td>\n",
       "      <td>[-0.4400530841736533, -0.4400244919097544, -0....</td>\n",
       "      <td>[0.13156996683826916, 0.13079042344880099, 0.1...</td>\n",
       "      <td>[[623.9200436999798], [623.9200436999798, 623....</td>\n",
       "      <td>None</td>\n",
       "      <td>[86.66704996710473, 86.57091149892292, 86.7064...</td>\n",
       "      <td>-1</td>\n",
       "    </tr>\n",
       "    <tr>\n",
       "      <th>1</th>\n",
       "      <td>1</td>\n",
       "      <td>6</td>\n",
       "      <td>[311, 312, 313, 314, 315, 316, 317, 318, 319, ...</td>\n",
       "      <td>[632.6210636999607, 634.6440336999893, 636.667...</td>\n",
       "      <td>[91.57111764705883, 120.43426500000001, 111.47...</td>\n",
       "      <td>[24.55913891912079, 27.710188609693276, 26.809...</td>\n",
       "      <td>[40.55137489680222, 39.952891876548776, 40.341...</td>\n",
       "      <td>[80.71102858415787, 82.22144943746963, 81.5163...</td>\n",
       "      <td>[-0.439103842112803, -0.43923336541220553, -0....</td>\n",
       "      <td>[0.029692707034158453, 0.030978420753719423, 0...</td>\n",
       "      <td>[[632.6210636999607, 634.6440336999893, 636.66...</td>\n",
       "      <td>None</td>\n",
       "      <td>[166.07175161197296, 167.01136099758025, 168.9...</td>\n",
       "      <td>1</td>\n",
       "    </tr>\n",
       "    <tr>\n",
       "      <th>2</th>\n",
       "      <td>2</td>\n",
       "      <td>228</td>\n",
       "      <td>[198, 200, 201, 202, 203, 204, 205, 206, 207, ...</td>\n",
       "      <td>[404.195771699965, 408.06773269999024, 410.264...</td>\n",
       "      <td>[86.53047150259067, 140.2266526315789, 133.360...</td>\n",
       "      <td>[27.01675707741251, 25.541903942456027, 29.375...</td>\n",
       "      <td>[50.290845792689154, 50.88648598112224, 50.688...</td>\n",
       "      <td>[158.71204727146267, 159.46310124706267, 160.3...</td>\n",
       "      <td>[-0.43226440228433194, -0.43203151283997937, -...</td>\n",
       "      <td>[0.09154401336813969, 0.09208344315660653, 0.0...</td>\n",
       "      <td>[[404.195771699965, 408.06773269999024, 410.26...</td>\n",
       "      <td>None</td>\n",
       "      <td>[173.9565711984111, 175.24327136936438, 177.88...</td>\n",
       "      <td>1</td>\n",
       "    </tr>\n",
       "    <tr>\n",
       "      <th>3</th>\n",
       "      <td>3</td>\n",
       "      <td>174</td>\n",
       "      <td>[229, 232, 235, 237, 238, 239, 240, 241, 242, ...</td>\n",
       "      <td>[466.7347687000036, 472.8038786999583, 478.872...</td>\n",
       "      <td>[65.89293719806764, 61.47283163265306, 98.5494...</td>\n",
       "      <td>[27.441336539152157, 27.28272196138455, 23.640...</td>\n",
       "      <td>[48.83205493517661, 48.94952741922207, 47.7030...</td>\n",
       "      <td>[84.60751307966582, 85.13390363783085, 85.6797...</td>\n",
       "      <td>[-0.4361680610600648, -0.43610468259755286, -0...</td>\n",
       "      <td>[0.03191083709437398, 0.03232245455381416, 0.0...</td>\n",
       "      <td>[[466.7347687000036, 472.8038786999583, 478.87...</td>\n",
       "      <td>None</td>\n",
       "      <td>[115.96052796784338, 116.18879874046448, 116.6...</td>\n",
       "      <td>-1</td>\n",
       "    </tr>\n",
       "    <tr>\n",
       "      <th>4</th>\n",
       "      <td>4</td>\n",
       "      <td>96</td>\n",
       "      <td>[181, 183, 184, 185, 187, 188, 189, 191, 192, ...</td>\n",
       "      <td>[370.3267566999793, 374.19871269994974, 376.39...</td>\n",
       "      <td>[84.5221707317073, 96.49605472636817, 96.31759...</td>\n",
       "      <td>[29.015894613564154, 28.84864934403, 28.851019...</td>\n",
       "      <td>[85.92347384660843, 85.83848854302039, 87.2151...</td>\n",
       "      <td>[208.58692269885142, 210.82216083748656, 210.7...</td>\n",
       "      <td>[-0.41810430281165323, -0.41802948627298525, -...</td>\n",
       "      <td>[0.1278042284755675, 0.12961738697412897, 0.12...</td>\n",
       "      <td>[[370.3267566999793, 374.19871269994974, 376.3...</td>\n",
       "      <td>None</td>\n",
       "      <td>[118.2200406715186, 118.43894453898801, 118.88...</td>\n",
       "      <td>1</td>\n",
       "    </tr>\n",
       "  </tbody>\n",
       "</table>\n",
       "</div>"
      ]
     },
     "execution_count": 40,
     "metadata": {},
     "output_type": "execute_result"
    }
   ],
   "execution_count": 40
  },
  {
   "metadata": {
    "ExecuteTime": {
     "end_time": "2025-05-08T21:13:07.636553Z",
     "start_time": "2025-05-08T21:13:07.600130Z"
    }
   },
   "cell_type": "code",
   "source": [
    "%matplotlib inline\n",
    "ap_positions, mean_fit_rates, SE_fit_rates, bin_counts, bin_particles_rates = faadata.average_particle_fits();"
   ],
   "id": "39064918f27aca86",
   "outputs": [
    {
     "ename": "ValueError",
     "evalue": "zero-size array to reduction operation maximum which has no identity",
     "output_type": "error",
     "traceback": [
      "\u001B[0;31m---------------------------------------------------------------------------\u001B[0m",
      "\u001B[0;31mValueError\u001B[0m                                Traceback (most recent call last)",
      "Cell \u001B[0;32mIn[41], line 2\u001B[0m\n\u001B[1;32m      1\u001B[0m get_ipython()\u001B[38;5;241m.\u001B[39mrun_line_magic(\u001B[38;5;124m'\u001B[39m\u001B[38;5;124mmatplotlib\u001B[39m\u001B[38;5;124m'\u001B[39m, \u001B[38;5;124m'\u001B[39m\u001B[38;5;124minline\u001B[39m\u001B[38;5;124m'\u001B[39m)\n\u001B[0;32m----> 2\u001B[0m ap_positions, mean_fit_rates, SE_fit_rates, bin_counts, bin_particles_rates \u001B[38;5;241m=\u001B[39m \u001B[43mfaadata\u001B[49m\u001B[38;5;241;43m.\u001B[39;49m\u001B[43maverage_particle_fits\u001B[49m\u001B[43m(\u001B[49m\u001B[43m)\u001B[49m;\n",
      "File \u001B[0;32m/mnt/Data1/Josh/transcription_pipeline/transcription_pipeline/RateExtraction_old.py:892\u001B[0m, in \u001B[0;36mFitAndAverage.average_particle_fits\u001B[0;34m(self, plot)\u001B[0m\n\u001B[1;32m    887\u001B[0m         plt\u001B[38;5;241m.\u001B[39mshow()\n\u001B[1;32m    889\u001B[0m     \u001B[38;5;28;01mreturn\u001B[39;00m ap_positions, mean_fit_rates, SE_fit_rates, bin_counts, bin_particles_rates\n\u001B[1;32m    891\u001B[0m ap_positions, mean_fit_rates, SE_fit_rates, bin_counts, bin_particles_rates \u001B[38;5;241m=\u001B[39m (\n\u001B[0;32m--> 892\u001B[0m     \u001B[43mcompute_average_fit_rates_for_bins\u001B[49m\u001B[43m(\u001B[49m\u001B[43mtraces_compiled_dataframe_fits_checked\u001B[49m\u001B[43m,\u001B[49m\u001B[43m \u001B[49m\u001B[38;5;28;43mself\u001B[39;49m\u001B[38;5;241;43m.\u001B[39;49m\u001B[43mbin_num\u001B[49m\u001B[43m)\u001B[49m)\n\u001B[1;32m    894\u001B[0m \u001B[38;5;28;01mreturn\u001B[39;00m ap_positions, mean_fit_rates, SE_fit_rates, bin_counts, bin_particles_rates\n",
      "File \u001B[0;32m/mnt/Data1/Josh/transcription_pipeline/transcription_pipeline/RateExtraction_old.py:876\u001B[0m, in \u001B[0;36mFitAndAverage.average_particle_fits.<locals>.compute_average_fit_rates_for_bins\u001B[0;34m(input_dataframe, bin_num, plot_result)\u001B[0m\n\u001B[1;32m    873\u001B[0m bin_slopes \u001B[38;5;241m=\u001B[39m mean_fit_rates[not_nan]\n\u001B[1;32m    874\u001B[0m bin_slope_errs \u001B[38;5;241m=\u001B[39m SE_fit_rates[not_nan]\n\u001B[0;32m--> 876\u001B[0m max_bin_slope \u001B[38;5;241m=\u001B[39m \u001B[43mnp\u001B[49m\u001B[38;5;241;43m.\u001B[39;49m\u001B[43mmax\u001B[49m\u001B[43m(\u001B[49m\u001B[43mbin_slopes\u001B[49m\u001B[43m)\u001B[49m\n\u001B[1;32m    877\u001B[0m ylim_up \u001B[38;5;241m=\u001B[39m \u001B[38;5;241m1.5\u001B[39m \u001B[38;5;241m*\u001B[39m max_bin_slope\n\u001B[1;32m    879\u001B[0m \u001B[38;5;28;01mif\u001B[39;00m plot_result:\n\u001B[1;32m    880\u001B[0m     \u001B[38;5;66;03m# Plot the average slope of trace fits for each bin number\u001B[39;00m\n",
      "File \u001B[0;32m<__array_function__ internals>:200\u001B[0m, in \u001B[0;36mamax\u001B[0;34m(*args, **kwargs)\u001B[0m\n",
      "File \u001B[0;32m/mnt/Data1/Josh/miniforge3/envs/transcription_pipeline/lib/python3.10/site-packages/numpy/core/fromnumeric.py:2820\u001B[0m, in \u001B[0;36mamax\u001B[0;34m(a, axis, out, keepdims, initial, where)\u001B[0m\n\u001B[1;32m   2703\u001B[0m \u001B[38;5;129m@array_function_dispatch\u001B[39m(_amax_dispatcher)\n\u001B[1;32m   2704\u001B[0m \u001B[38;5;28;01mdef\u001B[39;00m \u001B[38;5;21mamax\u001B[39m(a, axis\u001B[38;5;241m=\u001B[39m\u001B[38;5;28;01mNone\u001B[39;00m, out\u001B[38;5;241m=\u001B[39m\u001B[38;5;28;01mNone\u001B[39;00m, keepdims\u001B[38;5;241m=\u001B[39mnp\u001B[38;5;241m.\u001B[39m_NoValue, initial\u001B[38;5;241m=\u001B[39mnp\u001B[38;5;241m.\u001B[39m_NoValue,\n\u001B[1;32m   2705\u001B[0m          where\u001B[38;5;241m=\u001B[39mnp\u001B[38;5;241m.\u001B[39m_NoValue):\n\u001B[1;32m   2706\u001B[0m \u001B[38;5;250m    \u001B[39m\u001B[38;5;124;03m\"\"\"\u001B[39;00m\n\u001B[1;32m   2707\u001B[0m \u001B[38;5;124;03m    Return the maximum of an array or maximum along an axis.\u001B[39;00m\n\u001B[1;32m   2708\u001B[0m \n\u001B[0;32m   (...)\u001B[0m\n\u001B[1;32m   2818\u001B[0m \u001B[38;5;124;03m    5\u001B[39;00m\n\u001B[1;32m   2819\u001B[0m \u001B[38;5;124;03m    \"\"\"\u001B[39;00m\n\u001B[0;32m-> 2820\u001B[0m     \u001B[38;5;28;01mreturn\u001B[39;00m \u001B[43m_wrapreduction\u001B[49m\u001B[43m(\u001B[49m\u001B[43ma\u001B[49m\u001B[43m,\u001B[49m\u001B[43m \u001B[49m\u001B[43mnp\u001B[49m\u001B[38;5;241;43m.\u001B[39;49m\u001B[43mmaximum\u001B[49m\u001B[43m,\u001B[49m\u001B[43m \u001B[49m\u001B[38;5;124;43m'\u001B[39;49m\u001B[38;5;124;43mmax\u001B[39;49m\u001B[38;5;124;43m'\u001B[39;49m\u001B[43m,\u001B[49m\u001B[43m \u001B[49m\u001B[43maxis\u001B[49m\u001B[43m,\u001B[49m\u001B[43m \u001B[49m\u001B[38;5;28;43;01mNone\u001B[39;49;00m\u001B[43m,\u001B[49m\u001B[43m \u001B[49m\u001B[43mout\u001B[49m\u001B[43m,\u001B[49m\n\u001B[1;32m   2821\u001B[0m \u001B[43m                          \u001B[49m\u001B[43mkeepdims\u001B[49m\u001B[38;5;241;43m=\u001B[39;49m\u001B[43mkeepdims\u001B[49m\u001B[43m,\u001B[49m\u001B[43m \u001B[49m\u001B[43minitial\u001B[49m\u001B[38;5;241;43m=\u001B[39;49m\u001B[43minitial\u001B[49m\u001B[43m,\u001B[49m\u001B[43m \u001B[49m\u001B[43mwhere\u001B[49m\u001B[38;5;241;43m=\u001B[39;49m\u001B[43mwhere\u001B[49m\u001B[43m)\u001B[49m\n",
      "File \u001B[0;32m/mnt/Data1/Josh/miniforge3/envs/transcription_pipeline/lib/python3.10/site-packages/numpy/core/fromnumeric.py:86\u001B[0m, in \u001B[0;36m_wrapreduction\u001B[0;34m(obj, ufunc, method, axis, dtype, out, **kwargs)\u001B[0m\n\u001B[1;32m     83\u001B[0m         \u001B[38;5;28;01melse\u001B[39;00m:\n\u001B[1;32m     84\u001B[0m             \u001B[38;5;28;01mreturn\u001B[39;00m reduction(axis\u001B[38;5;241m=\u001B[39maxis, out\u001B[38;5;241m=\u001B[39mout, \u001B[38;5;241m*\u001B[39m\u001B[38;5;241m*\u001B[39mpasskwargs)\n\u001B[0;32m---> 86\u001B[0m \u001B[38;5;28;01mreturn\u001B[39;00m \u001B[43mufunc\u001B[49m\u001B[38;5;241;43m.\u001B[39;49m\u001B[43mreduce\u001B[49m\u001B[43m(\u001B[49m\u001B[43mobj\u001B[49m\u001B[43m,\u001B[49m\u001B[43m \u001B[49m\u001B[43maxis\u001B[49m\u001B[43m,\u001B[49m\u001B[43m \u001B[49m\u001B[43mdtype\u001B[49m\u001B[43m,\u001B[49m\u001B[43m \u001B[49m\u001B[43mout\u001B[49m\u001B[43m,\u001B[49m\u001B[43m \u001B[49m\u001B[38;5;241;43m*\u001B[39;49m\u001B[38;5;241;43m*\u001B[39;49m\u001B[43mpasskwargs\u001B[49m\u001B[43m)\u001B[49m\n",
      "\u001B[0;31mValueError\u001B[0m: zero-size array to reduction operation maximum which has no identity"
     ]
    }
   ],
   "execution_count": 41
  },
  {
   "metadata": {
    "ExecuteTime": {
     "end_time": "2025-05-08T21:13:07.720730076Z",
     "start_time": "2025-05-08T20:11:29.703945Z"
    }
   },
   "cell_type": "code",
   "source": "bin_particles_rates",
   "id": "36a959f984c5b3eb",
   "outputs": [
    {
     "data": {
      "text/plain": [
       "array([0, 0, 0, 0, 0,\n",
       "       {'bin': 6, 'bin_ap_position': 0.125, 'bin_particle_counts': 2.0, 'particles': array([126, 123]), 'rates': array([412.02212227, 216.59944685]), 'mean_rate': 314.3107845598044, 'SE_rate': 69.09234949654314},\n",
       "       {'bin': 7, 'bin_ap_position': 0.15, 'bin_particle_counts': 11.0, 'particles': array([143, 995,  78, 121, 116,  17, 103,  36, 114, 111, 673]), 'rates': array([222.32872852, 192.09519801, 445.3157785 , 293.34738333,\n",
       "              185.03089022, 186.40479153, 121.94759614, 132.76174084,\n",
       "              187.98022284, 506.68978261, 493.32534281]), 'mean_rate': 269.74795048652396, 'SE_rate': 41.38181421974492}                                                                                                    ,\n",
       "       {'bin': 8, 'bin_ap_position': 0.175, 'bin_particle_counts': 12.0, 'particles': array([100, 135,  59,  31,  35, 106,  47,  54,  88,  80,  16,  53]), 'rates': array([469.30764809, 406.13251988, 154.74964423, 299.81423363,\n",
       "              223.33277249, 123.57320627, 411.98737977, 201.47405487,\n",
       "              268.807619  , 132.17459538, 345.22663185, 250.99784144]), 'mean_rate': 273.9648455757964, 'SE_rate': 31.812246931680367}                                                                                            ,\n",
       "       {'bin': 9, 'bin_ap_position': 0.2, 'bin_particle_counts': 10.0, 'particles': array([ 76,  82,  19, 235, 108,  11,  52, 125, 140,  49]), 'rates': array([536.44519997, 426.01112551, 199.3791304 , 215.89720702,\n",
       "              354.74045127, 302.99911803, 367.3608779 , 333.78643988,\n",
       "              212.29936576, 474.24736438]), 'mean_rate': 342.31662801304253, 'SE_rate': 34.324054802830176}                                                                                                           ,\n",
       "       {'bin': 10, 'bin_ap_position': 0.225, 'bin_particle_counts': 13.0, 'particles': array([ 85,  81, 113, 122,  99, 117,  67,  24,   8, 107,  25,  13,  87]), 'rates': array([383.33956041, 345.1772495 , 272.94178578, 323.09487291,\n",
       "              453.31555286, 281.86521103, 519.87123478, 311.17549758,\n",
       "              328.77269072, 358.59907786, 389.72508839, 544.24864525,\n",
       "              347.1979822 ]), 'mean_rate': 373.7941884055939, 'SE_rate': 22.55296979648355}                                                                                                                                             ,\n",
       "       {'bin': 11, 'bin_ap_position': 0.25, 'bin_particle_counts': 10.0, 'particles': array([ 84, 147,  40, 109,  15, 382,  91,  45,  20,  51]), 'rates': array([300.02897943, 437.2978517 , 327.15164725, 353.74462451,\n",
       "              295.79873202, 351.45530863, 341.99946916, 412.75990695,\n",
       "              246.27335345, 376.04959031]), 'mean_rate': 344.25594634359135, 'SE_rate': 16.94244783614879}                                                                                                              ,\n",
       "       {'bin': 12, 'bin_ap_position': 0.275, 'bin_particle_counts': 13.0, 'particles': array([428,   9,  38, 189,  68,  46,  55,  97,  41,  74, 617,  64,  34]), 'rates': array([415.41834942, 251.45292928, 388.56435247, 128.00860728,\n",
       "              485.94343489, 376.33821085, 357.33526916, 275.01738386,\n",
       "              152.83843555, 293.65931526, 172.13263795, 398.13673998,\n",
       "              361.25121195]), 'mean_rate': 312.00745214606445, 'SE_rate': 29.489928306643545}                                                                                                                                           ,\n",
       "       {'bin': 13, 'bin_ap_position': 0.3, 'bin_particle_counts': 11.0, 'particles': array([144, 102,   1,  98,  57, 407,  23, 124,  94,  33,   4]), 'rates': array([383.57265692, 373.45507067, 362.18310135, 218.64645668,\n",
       "              371.16318917, 119.53767832, 509.88105922, 347.79378096,\n",
       "              458.14448286, 510.01498361, 458.36621776]), 'mean_rate': 373.8871525037506, 'SE_rate': 34.13315351409428}                                                                                                     ,\n",
       "       {'bin': 14, 'bin_ap_position': 0.325, 'bin_particle_counts': 10.0, 'particles': array([ 60, 134,  56,  22, 115, 112, 137,  79,  70, 413]), 'rates': array([453.43477131, 356.20705673,  74.57067313, 359.27262236,\n",
       "              246.61192157, 344.33903988, 251.14558048,  63.42526253,\n",
       "              173.57754855, 519.36839239]), 'mean_rate': 284.19528689219595, 'SE_rate': 45.366388856295096}                                                                                                              ,\n",
       "       {'bin': 15, 'bin_ap_position': 0.35, 'bin_particle_counts': 8.0, 'particles': array([ 72,   3, 374,  37,  73,  39, 269,  29]), 'rates': array([458.61551774, 204.36217468, 170.80817249,  99.19990645,\n",
       "              299.20669812, 110.57851728, 165.5177563 , 400.97625889]), 'mean_rate': 238.658125241479, 'SE_rate': 44.260747873240746}                                                                        ,\n",
       "       {'bin': 16, 'bin_ap_position': 0.375, 'bin_particle_counts': 8.0, 'particles': array([ 50,  95, 505,  89, 127, 118,   2, 223]), 'rates': array([376.80347958, 396.5577981 , 233.90364742, 231.88124238,\n",
       "              175.53196258, 171.9157406 , 361.5205203 , 294.15953492]), 'mean_rate': 280.28424073484746, 'SE_rate': 29.800939006202473}                                                                       ,\n",
       "       {'bin': 17, 'bin_ap_position': 0.4, 'bin_particle_counts': 7.0, 'particles': array([ 21, 148, 129,  27, 231, 119,  75]), 'rates': array([113.11996575, 121.69982698,  80.61907322, 370.15517562,\n",
       "              286.03141149, 130.13324846, 187.42130149]), 'mean_rate': 184.16857185937096, 'SE_rate': 37.13466901148942}                                                                               ,\n",
       "       {'bin': 18, 'bin_ap_position': 0.425, 'bin_particle_counts': 5.0, 'particles': array([ 96, 156,  92, 130, 242]), 'rates': array([ 61.19008212, 204.93145581,  76.51625757, 150.6055572 ,\n",
       "               94.25179184]), 'mean_rate': 117.49902890882088, 'SE_rate': 23.77493685048625}                                                                                                   ,\n",
       "       {'bin': 19, 'bin_ap_position': 0.45, 'bin_particle_counts': 2.0, 'particles': array([  6, 228]), 'rates': array([458.66576814, 390.03223457]), 'mean_rate': 424.3490013564946, 'SE_rate': 24.26561850141631},\n",
       "       0, 0, 0, 0, 0, 0, 0, 0, 0, 0, 0, 0, 0, 0, 0, 0, 0, 0, 0, 0, 0],\n",
       "      dtype=object)"
      ]
     },
     "execution_count": 11,
     "metadata": {},
     "output_type": "execute_result"
    }
   ],
   "execution_count": 11
  }
 ],
 "metadata": {
  "kernelspec": {
   "display_name": "Python 3",
   "language": "python",
   "name": "python3"
  },
  "language_info": {
   "codemirror_mode": {
    "name": "ipython",
    "version": 2
   },
   "file_extension": ".py",
   "mimetype": "text/x-python",
   "name": "python",
   "nbconvert_exporter": "python",
   "pygments_lexer": "ipython2",
   "version": "2.7.6"
  }
 },
 "nbformat": 4,
 "nbformat_minor": 5
}
