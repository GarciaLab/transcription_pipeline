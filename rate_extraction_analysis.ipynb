{
 "cells": [
  {
   "cell_type": "markdown",
   "metadata": {},
   "source": "## Prepare Dataset and Specify Parameters (please only edit cells in this section)\n"
  },
  {
   "cell_type": "code",
   "metadata": {},
   "source": [
    "# Parameters to specify\n",
    "\n",
    "# Specify here at what frame NC14 starts\n",
    "nc14_start_frame = 400\n",
    "\n",
    "# Any trace with frame number smaller than min_frames will be filtered out\n",
    "min_frames = 40\n",
    "\n",
    "# Number of bins you want to split the full embryo into\n",
    "num_bins = 42"
   ],
   "outputs": [],
   "execution_count": null
  },
  {
   "cell_type": "code",
   "metadata": {
    "ExecuteTime": {
     "end_time": "2024-12-17T00:54:00.559368Z",
     "start_time": "2024-12-17T00:54:00.553352Z"
    }
   },
   "source": [
    "# Dataset Directory\n",
    "\n",
    "dataset_folder = '/mnt/Data1/Nick/transcription_pipeline/'\n",
    "\n",
    "RBSPWM_datasets = [\n",
    "    \"test_data/2024-02-26/Halo-RBSPWM_embryo01\",\n",
    "    \"test_data/2024-02-26/Halo-RBSPWM_embryo02\",\n",
    "    \"test_data/2024-05-07/Halo552-RBSPWM_embryo01\",\n",
    "    \"test_data/2024-05-07/Halo552-RBSPWM_embryo02\",\n",
    "    \"test_data/2024-05-09/Halo552-RBSPWM_embryo01\",\n",
    "]\n",
    "\n",
    "RBSVar2_datasets = [\n",
    "    \"test_data/2024-07-23/Halo673_RBSVar2_embryo01\",\n",
    "    \"test_data/2024-07-25/Halo673_RBSVar2_embryo01\",\n",
    "    \"test_data/2024-10-10/Halo673_RBSVar2_embryo01\",\n",
    "    \"test_data/2024-10-10/Halo673_RBSVar2_embryo02\",\n",
    "]\n",
    "MCP_mSG_datasets = [\n",
    "    \"test_data/2024-10-31/MCP-mSG_ParB-mScar_RBSPWM_embryo01\",\n",
    "    \"test_data/2024-10-31/MCP-mSG_ParB-mScar_RBSPWM_embryo02\",\n",
    "    ]\n",
    "\n",
    "test_dataset_name = dataset_folder + RBSVar2_datasets[1]\n",
    "print('Dataset Path: ' + test_dataset_name)"
   ],
   "outputs": [
    {
     "name": "stdout",
     "output_type": "stream",
     "text": [
      "Dataset Path: /mnt/Data1/Nick/transcription_pipeline/test_data/2024-07-25/Halo673_RBSVar2_embryo01\n"
     ]
    }
   ],
   "execution_count": 14
  },
  {
   "cell_type": "code",
   "metadata": {
    "ExecuteTime": {
     "end_time": "2024-12-17T00:54:03.158857Z",
     "start_time": "2024-12-17T00:54:03.155009Z"
    }
   },
   "source": [
    "# Import pipeline\n",
    "from transcription_pipeline import nuclear_pipeline\n",
    "from transcription_pipeline import preprocessing_pipeline\n",
    "\n",
    "from transcription_pipeline import spot_pipeline\n",
    "from transcription_pipeline import fullEmbryo_pipeline\n",
    "\n",
    "from transcription_pipeline.spot_analysis import compile_data\n",
    "from transcription_pipeline.utils import plottable\n",
    "\n",
    "import os\n",
    "import matplotlib.pyplot as plt\n",
    "import matplotlib as mpl"
   ],
   "outputs": [],
   "execution_count": 15
  },
  {
   "cell_type": "code",
   "metadata": {
    "ExecuteTime": {
     "end_time": "2024-12-17T00:54:05.300054Z",
     "start_time": "2024-12-17T00:54:05.288966Z"
    }
   },
   "source": [
    "# Specify how you would want the plots to be shown: Use TkAgg if you use PyCharm, or widget if you use a browser\n",
    "\n",
    "mpl.use('TkAgg')\n",
    "# %matplotlib widget"
   ],
   "outputs": [],
   "execution_count": 16
  },
  {
   "cell_type": "markdown",
   "metadata": {},
   "source": [
    "## Import Dataset"
   ]
  },
  {
   "cell_type": "markdown",
   "metadata": {},
   "source": [
    "### Import MS2 Dataset"
   ]
  },
  {
   "cell_type": "markdown",
   "metadata": {},
   "source": [
    "Detect whether the dataset has already been converted into `zarr` files, i.e. whether there's \"previously\" processed data. If so, load the previous results."
   ]
  },
  {
   "cell_type": "code",
   "metadata": {
    "ExecuteTime": {
     "end_time": "2024-12-17T00:54:08.826122Z",
     "start_time": "2024-12-17T00:54:08.811892Z"
    }
   },
   "source": [
    "ms2_import_previous = os.path.isdir(test_dataset_name + '/collated_dataset')\n",
    "ms2_import_previous"
   ],
   "outputs": [
    {
     "data": {
      "text/plain": [
       "True"
      ]
     },
     "execution_count": 17,
     "metadata": {},
     "output_type": "execute_result"
    }
   ],
   "execution_count": 17
  },
  {
   "cell_type": "code",
   "metadata": {
    "ExecuteTime": {
     "end_time": "2024-12-17T00:54:11.391258Z",
     "start_time": "2024-12-17T00:54:11.266108Z"
    }
   },
   "source": [
    "dataset = preprocessing_pipeline.DataImport(\n",
    "    name_folder=test_dataset_name,\n",
    "    trim_series=True,\n",
    "    working_storage_mode='zarr',\n",
    "    import_previous=ms2_import_previous, \n",
    ")"
   ],
   "outputs": [],
   "execution_count": 18
  },
  {
   "cell_type": "markdown",
   "metadata": {},
   "source": [
    "### Import FullEmbryo Dataset"
   ]
  },
  {
   "cell_type": "code",
   "metadata": {
    "ExecuteTime": {
     "end_time": "2024-12-17T00:54:26.557934Z",
     "start_time": "2024-12-17T00:54:21.661275Z"
    }
   },
   "source": [
    "FullEmbryo_dataset = preprocessing_pipeline.FullEmbryoImport(\n",
    "    name_folder=test_dataset_name,\n",
    "    #import_previous=True\n",
    ")\n",
    "# Loading FullEmbryo dataset is not working currently, but reported to Yovan where it only reads in the last channel\n",
    "# FullEmbryo_dataset.save()"
   ],
   "outputs": [],
   "execution_count": 19
  },
  {
   "cell_type": "markdown",
   "metadata": {},
   "source": [
    "## Starting a DASK Client for parallel processing"
   ]
  },
  {
   "cell_type": "code",
   "metadata": {},
   "source": [
    "from dask.distributed import LocalCluster, Client\n",
    "\n",
    "try:\n",
    "    cluster = LocalCluster(\n",
    "        host=\"localhost\",\n",
    "        scheduler_port=37763,\n",
    "        threads_per_worker=1,\n",
    "        n_workers=14,\n",
    "        memory_limit=\"6GB\",\n",
    "    )\n",
    "    \n",
    "    client = Client(cluster)\n",
    "except:\n",
    "    print(\"Cluster already running\")\n",
    "    client = Client('localhost:37763')\n",
    "\n",
    "print(client)"
   ],
   "outputs": [],
   "execution_count": null
  },
  {
   "cell_type": "code",
   "metadata": {},
   "source": [
    "client.restart()"
   ],
   "outputs": [],
   "execution_count": null
  },
  {
   "cell_type": "code",
   "metadata": {},
   "source": [
    "client"
   ],
   "outputs": [],
   "execution_count": null
  },
  {
   "cell_type": "markdown",
   "metadata": {},
   "source": [
    "## Nuclear Tracking"
   ]
  },
  {
   "cell_type": "markdown",
   "metadata": {},
   "source": [
    "Detect whether the nuclear tracking has been done \"previously.\" If so, load the previous results."
   ]
  },
  {
   "cell_type": "code",
   "metadata": {
    "ExecuteTime": {
     "end_time": "2024-12-17T00:54:33.428785Z",
     "start_time": "2024-12-17T00:54:33.421059Z"
    }
   },
   "source": [
    "nuclear_tracking_previous = os.path.isdir(test_dataset_name + '/nuclear_analysis_results')\n",
    "nuclear_tracking_previous"
   ],
   "outputs": [
    {
     "data": {
      "text/plain": [
       "True"
      ]
     },
     "execution_count": 20,
     "metadata": {},
     "output_type": "execute_result"
    }
   ],
   "execution_count": 20
  },
  {
   "cell_type": "code",
   "metadata": {
    "ExecuteTime": {
     "end_time": "2024-12-17T00:54:36.220485Z",
     "start_time": "2024-12-17T00:54:36.079477Z"
    }
   },
   "source": [
    "if nuclear_tracking_previous:\n",
    "    # Load nuclear tracking results\n",
    "    print('Load from previous nuclear tracking results')\n",
    "    \n",
    "    nuclear_tracking = nuclear_pipeline.Nuclear()\n",
    "    nuclear_tracking.read_results(name_folder=test_dataset_name)\n",
    "    \n",
    "else:\n",
    "    # Do nuclear tracking and save the results\n",
    "    print('Do nuclear tracking for the dataset')\n",
    "    \n",
    "    nuclear_tracking = nuclear_pipeline.Nuclear(\n",
    "        data=dataset.channels_full_dataset[0],\n",
    "        global_metadata=dataset.export_global_metadata[0],\n",
    "        frame_metadata=dataset.export_frame_metadata[0],\n",
    "        series_splits=dataset.series_splits,\n",
    "        series_shifts=dataset.series_shifts,\n",
    "        search_range_um=1.5,\n",
    "        stitch=False,\n",
    "        stitch_max_distance=4,\n",
    "        stitch_max_frame_distance=2,\n",
    "        client=client,\n",
    "        keep_futures=False,\n",
    "    )\n",
    "    \n",
    "    nuclear_tracking.track_nuclei(\n",
    "            working_memory_mode=\"zarr\",\n",
    "            working_memory_folder=test_dataset_name,\n",
    "            trackpy_log_path=\"\".join([test_dataset_name, \"trackpy_log\"]),\n",
    "        )\n",
    "        # Saves tracked nuclear mask as a zarr, and pickles dataframes with segmentation and\n",
    "        # tracking information.\n",
    "    nuclear_tracking.save_results(\n",
    "            name_folder=test_dataset_name, save_array_as=None\n",
    "        )"
   ],
   "outputs": [
    {
     "name": "stdout",
     "output_type": "stream",
     "text": [
      "Load from previous nuclear tracking results\n"
     ]
    }
   ],
   "execution_count": 21
  },
  {
   "cell_type": "markdown",
   "metadata": {},
   "source": [
    "## Spot Tracking"
   ]
  },
  {
   "cell_type": "markdown",
   "metadata": {},
   "source": [
    "Detect whether the spot tracking has been done \"previously.\" If so, load the previous results."
   ]
  },
  {
   "cell_type": "code",
   "metadata": {
    "ExecuteTime": {
     "end_time": "2024-12-17T00:54:41.658224Z",
     "start_time": "2024-12-17T00:54:41.651750Z"
    }
   },
   "source": [
    "spot_tracking_previous = os.path.isdir(test_dataset_name + '/spot_analysis_results')\n",
    "spot_tracking_previous"
   ],
   "outputs": [
    {
     "data": {
      "text/plain": [
       "True"
      ]
     },
     "execution_count": 22,
     "metadata": {},
     "output_type": "execute_result"
    }
   ],
   "execution_count": 22
  },
  {
   "cell_type": "code",
   "metadata": {
    "ExecuteTime": {
     "end_time": "2024-12-17T00:54:47.122608Z",
     "start_time": "2024-12-17T00:54:45.850728Z"
    }
   },
   "source": [
    "%%time\n",
    "\n",
    "if spot_tracking_previous:\n",
    "    # Load spot tracking results\n",
    "    print('Load from spot tracking results')\n",
    "    \n",
    "    spot_tracking = spot_pipeline.Spot()\n",
    "    spot_tracking.read_results(name_folder=test_dataset_name)\n",
    "    \n",
    "else:\n",
    "    # Do spot tracking and save the results\n",
    "    print('Do spot tracking for the dataset')\n",
    "    \n",
    "    spot_tracking = spot_pipeline.Spot(\n",
    "        data=dataset.channels_full_dataset[1],\n",
    "        global_metadata=dataset.export_global_metadata[1],\n",
    "        frame_metadata=dataset.export_frame_metadata[1],\n",
    "        labels=None,#nuclear_tracking.reordered_labels,\n",
    "        expand_distance=3,\n",
    "        search_range_um=4.2,\n",
    "        retrack_search_range_um=4.5,\n",
    "        threshold_factor=1.3,\n",
    "        memory=3,\n",
    "        retrack_after_filter=False,\n",
    "        stitch=True,\n",
    "        min_track_length=0,\n",
    "        series_splits=dataset.series_splits,\n",
    "        series_shifts=dataset.series_shifts,\n",
    "        keep_bandpass=False,\n",
    "        keep_futures=False,\n",
    "        keep_spot_labels=False,\n",
    "        evaluate=True,\n",
    "        retrack_by_intensity=True,\n",
    "        client=client,\n",
    "    )\n",
    "    \n",
    "    spot_tracking.extract_spot_traces(\n",
    "        working_memory_folder=test_dataset_name, \n",
    "        stitch=True,\n",
    "        retrack_after_filter=True,\n",
    "        trackpy_log_path = test_dataset_name+'/trackpy_log'\n",
    "    )\n",
    "    \n",
    "    # Saves tracked spot mask as a zarr, and pickles dataframes with spot fitting and\n",
    "    # quantification information.\n",
    "    spot_tracking.save_results(name_folder=test_dataset_name, save_array_as=None)"
   ],
   "outputs": [
    {
     "name": "stdout",
     "output_type": "stream",
     "text": [
      "Load from spot tracking results\n",
      "CPU times: user 1.07 s, sys: 37.5 ms, total: 1.11 s\n",
      "Wall time: 1.26 s\n"
     ]
    }
   ],
   "execution_count": 23
  },
  {
   "cell_type": "markdown",
   "metadata": {},
   "source": [
    "### Make Compiled Dataframe"
   ]
  },
  {
   "cell_type": "code",
   "metadata": {
    "ExecuteTime": {
     "end_time": "2024-12-17T00:54:53.016422Z",
     "start_time": "2024-12-17T00:54:52.072171Z"
    }
   },
   "source": [
    "# Load spot tracking dataframe\n",
    "spot_df = spot_tracking.spot_dataframe\n",
    "\n",
    "# Remove spots that were not detected\n",
    "detected_spots = spot_df[spot_df[\"particle\"] != 0]\n",
    "\n",
    "# Compile traces\n",
    "compiled_dataframe = compile_data.compile_traces(\n",
    "    detected_spots,\n",
    "    compile_columns_spot=[\n",
    "        \"frame\",\n",
    "        \"t_s\",\n",
    "        \"intensity_from_neighborhood\",\n",
    "        \"intensity_std_error_from_neighborhood\",\n",
    "        \"x\",\n",
    "        \"y\"\n",
    "    ],\n",
    "    nuclear_tracking_dataframe=None,\n",
    ")\n",
    "\n",
    "compiled_dataframe.head()"
   ],
   "outputs": [
    {
     "data": {
      "text/plain": [
       "   particle                                              frame  \\\n",
       "0         1  [506, 507, 511, 512, 513, 514, 515, 517, 518, ...   \n",
       "1         2  [460, 461, 462, 463, 464, 465, 466, 467, 468, ...   \n",
       "2         3  [527, 528, 529, 530, 531, 532, 533, 534, 535, ...   \n",
       "3         4  [572, 573, 574, 576, 577, 578, 580, 581, 582, ...   \n",
       "4         5  [486, 489, 490, 491, 492, 493, 494, 495, 496, ...   \n",
       "\n",
       "                                                 t_s  \\\n",
       "0  [2300.7059993743896, 2304.7430000305176, 2322....   \n",
       "1  [2091.4230003356934, 2095.882999420166, 2100.1...   \n",
       "2  [2394.573999404907, 2399.2339992523193, 2403.4...   \n",
       "3  [2601.6180000305176, 2605.8780002593994, 2610....   \n",
       "4  [2211.6900005340576, 2225.287000656128, 2229.7...   \n",
       "\n",
       "                         intensity_from_neighborhood  \\\n",
       "0  [72.1570804597701, 53.93129347826087, 95.00423...   \n",
       "1  [57.47963945578232, 38.66103448275862, 90.2138...   \n",
       "2  [67.31827607361961, 10.19521568627451, 67.1475...   \n",
       "3  [131.19976923076925, 114.73455625, 112.1208231...   \n",
       "4  [49.39227659574468, 71.93047777777778, 75.6659...   \n",
       "\n",
       "               intensity_std_error_from_neighborhood  \\\n",
       "0  [25.268212723555116, 24.193128325434877, 23.27...   \n",
       "1  [27.24615631798166, 25.318037332850935, 24.569...   \n",
       "2  [26.219966228377146, 26.957198706766793, 25.65...   \n",
       "3  [23.632369088123415, 26.48124363284603, 24.361...   \n",
       "4  [23.603968369418688, 23.202337971412053, 23.80...   \n",
       "\n",
       "                                                   x  \\\n",
       "0  [425.48808831836254, 423.8314928296911, 425.13...   \n",
       "1  [122.58614821001362, 123.76488548423376, 126.0...   \n",
       "2  [588.016012440591, 586.074051884851, 588.18053...   \n",
       "3  [247.29672998614768, 245.9633552657412, 245.16...   \n",
       "4  [473.56080767748307, 471.83975365873124, 471.4...   \n",
       "\n",
       "                                                   y  \n",
       "0  [221.00383393743027, 221.58308686421765, 221.5...  \n",
       "1  [17.180038487563998, 17.208933264743397, 18.12...  \n",
       "2  [48.20524698088067, 48.37057827336589, 48.2503...  \n",
       "3  [119.09766185700249, 119.2585299587735, 118.06...  \n",
       "4  [127.7748944142374, 128.7753637411546, 128.167...  "
      ],
      "text/html": [
       "<div>\n",
       "<style scoped>\n",
       "    .dataframe tbody tr th:only-of-type {\n",
       "        vertical-align: middle;\n",
       "    }\n",
       "\n",
       "    .dataframe tbody tr th {\n",
       "        vertical-align: top;\n",
       "    }\n",
       "\n",
       "    .dataframe thead th {\n",
       "        text-align: right;\n",
       "    }\n",
       "</style>\n",
       "<table border=\"1\" class=\"dataframe\">\n",
       "  <thead>\n",
       "    <tr style=\"text-align: right;\">\n",
       "      <th></th>\n",
       "      <th>particle</th>\n",
       "      <th>frame</th>\n",
       "      <th>t_s</th>\n",
       "      <th>intensity_from_neighborhood</th>\n",
       "      <th>intensity_std_error_from_neighborhood</th>\n",
       "      <th>x</th>\n",
       "      <th>y</th>\n",
       "    </tr>\n",
       "  </thead>\n",
       "  <tbody>\n",
       "    <tr>\n",
       "      <th>0</th>\n",
       "      <td>1</td>\n",
       "      <td>[506, 507, 511, 512, 513, 514, 515, 517, 518, ...</td>\n",
       "      <td>[2300.7059993743896, 2304.7430000305176, 2322....</td>\n",
       "      <td>[72.1570804597701, 53.93129347826087, 95.00423...</td>\n",
       "      <td>[25.268212723555116, 24.193128325434877, 23.27...</td>\n",
       "      <td>[425.48808831836254, 423.8314928296911, 425.13...</td>\n",
       "      <td>[221.00383393743027, 221.58308686421765, 221.5...</td>\n",
       "    </tr>\n",
       "    <tr>\n",
       "      <th>1</th>\n",
       "      <td>2</td>\n",
       "      <td>[460, 461, 462, 463, 464, 465, 466, 467, 468, ...</td>\n",
       "      <td>[2091.4230003356934, 2095.882999420166, 2100.1...</td>\n",
       "      <td>[57.47963945578232, 38.66103448275862, 90.2138...</td>\n",
       "      <td>[27.24615631798166, 25.318037332850935, 24.569...</td>\n",
       "      <td>[122.58614821001362, 123.76488548423376, 126.0...</td>\n",
       "      <td>[17.180038487563998, 17.208933264743397, 18.12...</td>\n",
       "    </tr>\n",
       "    <tr>\n",
       "      <th>2</th>\n",
       "      <td>3</td>\n",
       "      <td>[527, 528, 529, 530, 531, 532, 533, 534, 535, ...</td>\n",
       "      <td>[2394.573999404907, 2399.2339992523193, 2403.4...</td>\n",
       "      <td>[67.31827607361961, 10.19521568627451, 67.1475...</td>\n",
       "      <td>[26.219966228377146, 26.957198706766793, 25.65...</td>\n",
       "      <td>[588.016012440591, 586.074051884851, 588.18053...</td>\n",
       "      <td>[48.20524698088067, 48.37057827336589, 48.2503...</td>\n",
       "    </tr>\n",
       "    <tr>\n",
       "      <th>3</th>\n",
       "      <td>4</td>\n",
       "      <td>[572, 573, 574, 576, 577, 578, 580, 581, 582, ...</td>\n",
       "      <td>[2601.6180000305176, 2605.8780002593994, 2610....</td>\n",
       "      <td>[131.19976923076925, 114.73455625, 112.1208231...</td>\n",
       "      <td>[23.632369088123415, 26.48124363284603, 24.361...</td>\n",
       "      <td>[247.29672998614768, 245.9633552657412, 245.16...</td>\n",
       "      <td>[119.09766185700249, 119.2585299587735, 118.06...</td>\n",
       "    </tr>\n",
       "    <tr>\n",
       "      <th>4</th>\n",
       "      <td>5</td>\n",
       "      <td>[486, 489, 490, 491, 492, 493, 494, 495, 496, ...</td>\n",
       "      <td>[2211.6900005340576, 2225.287000656128, 2229.7...</td>\n",
       "      <td>[49.39227659574468, 71.93047777777778, 75.6659...</td>\n",
       "      <td>[23.603968369418688, 23.202337971412053, 23.80...</td>\n",
       "      <td>[473.56080767748307, 471.83975365873124, 471.4...</td>\n",
       "      <td>[127.7748944142374, 128.7753637411546, 128.167...</td>\n",
       "    </tr>\n",
       "  </tbody>\n",
       "</table>\n",
       "</div>"
      ]
     },
     "execution_count": 24,
     "metadata": {},
     "output_type": "execute_result"
    }
   ],
   "execution_count": 24
  },
  {
   "cell_type": "markdown",
   "metadata": {},
   "source": [
    "## Full Embryo Analysis"
   ]
  },
  {
   "cell_type": "code",
   "metadata": {
    "ExecuteTime": {
     "end_time": "2024-12-17T00:55:00.783006Z",
     "start_time": "2024-12-17T00:54:57.184896Z"
    }
   },
   "source": [
    "plt.figure(figsize=(12,6))\n",
    "\n",
    "plt.subplot(1, 2, 1)\n",
    "plt.imshow(FullEmbryo_dataset.channels_full_dataset_surf[0][0, :, :], cmap='gray')\n",
    "plt.title('Full Embryo Surf')\n",
    "\n",
    "plt.subplot(1, 2, 2)\n",
    "plt.imshow(FullEmbryo_dataset.channels_full_dataset_mid[0][0, :, :], cmap='gray')\n",
    "plt.title('Full Embryo Mid')\n",
    "\n",
    "plt.tight_layout()\n",
    "plt.show()"
   ],
   "outputs": [],
   "execution_count": 25
  },
  {
   "cell_type": "code",
   "metadata": {
    "ExecuteTime": {
     "end_time": "2024-12-17T00:55:17.149060Z",
     "start_time": "2024-12-17T00:55:17.141186Z"
    }
   },
   "source": [
    "fullEmbryo = fullEmbryo_pipeline.FullEmbryo(FullEmbryo_dataset, dataset, his_channel=0)"
   ],
   "outputs": [],
   "execution_count": 26
  },
  {
   "cell_type": "code",
   "metadata": {
    "ExecuteTime": {
     "end_time": "2024-12-17T00:55:25.962697Z",
     "start_time": "2024-12-17T00:55:22.200065Z"
    }
   },
   "source": [
    "fullEmbryo.find_ap_axis(make_plots=True)"
   ],
   "outputs": [],
   "execution_count": 27
  },
  {
   "cell_type": "code",
   "metadata": {
    "ExecuteTime": {
     "end_time": "2024-12-17T00:55:29.484631Z",
     "start_time": "2024-12-17T00:55:29.438240Z"
    }
   },
   "source": [
    "compiled_dataframe = fullEmbryo.xy_to_ap(compiled_dataframe)\n",
    "compiled_dataframe.head()"
   ],
   "outputs": [
    {
     "data": {
      "text/plain": [
       "   particle                                              frame  \\\n",
       "0         1  [506, 507, 511, 512, 513, 514, 515, 517, 518, ...   \n",
       "1         2  [460, 461, 462, 463, 464, 465, 466, 467, 468, ...   \n",
       "2         3  [527, 528, 529, 530, 531, 532, 533, 534, 535, ...   \n",
       "3         4  [572, 573, 574, 576, 577, 578, 580, 581, 582, ...   \n",
       "4         5  [486, 489, 490, 491, 492, 493, 494, 495, 496, ...   \n",
       "\n",
       "                                                 t_s  \\\n",
       "0  [2300.7059993743896, 2304.7430000305176, 2322....   \n",
       "1  [2091.4230003356934, 2095.882999420166, 2100.1...   \n",
       "2  [2394.573999404907, 2399.2339992523193, 2403.4...   \n",
       "3  [2601.6180000305176, 2605.8780002593994, 2610....   \n",
       "4  [2211.6900005340576, 2225.287000656128, 2229.7...   \n",
       "\n",
       "                         intensity_from_neighborhood  \\\n",
       "0  [72.1570804597701, 53.93129347826087, 95.00423...   \n",
       "1  [57.47963945578232, 38.66103448275862, 90.2138...   \n",
       "2  [67.31827607361961, 10.19521568627451, 67.1475...   \n",
       "3  [131.19976923076925, 114.73455625, 112.1208231...   \n",
       "4  [49.39227659574468, 71.93047777777778, 75.6659...   \n",
       "\n",
       "               intensity_std_error_from_neighborhood  \\\n",
       "0  [25.268212723555116, 24.193128325434877, 23.27...   \n",
       "1  [27.24615631798166, 25.318037332850935, 24.569...   \n",
       "2  [26.219966228377146, 26.957198706766793, 25.65...   \n",
       "3  [23.632369088123415, 26.48124363284603, 24.361...   \n",
       "4  [23.603968369418688, 23.202337971412053, 23.80...   \n",
       "\n",
       "                                                   x  \\\n",
       "0  [425.48808831836254, 423.8314928296911, 425.13...   \n",
       "1  [122.58614821001362, 123.76488548423376, 126.0...   \n",
       "2  [588.016012440591, 586.074051884851, 588.18053...   \n",
       "3  [247.29672998614768, 245.9633552657412, 245.16...   \n",
       "4  [473.56080767748307, 471.83975365873124, 471.4...   \n",
       "\n",
       "                                                   y  \\\n",
       "0  [221.00383393743027, 221.58308686421765, 221.5...   \n",
       "1  [17.180038487563998, 17.208933264743397, 18.12...   \n",
       "2  [48.20524698088067, 48.37057827336589, 48.2503...   \n",
       "3  [119.09766185700249, 119.2585299587735, 118.06...   \n",
       "4  [127.7748944142374, 128.7753637411546, 128.167...   \n",
       "\n",
       "                                                  ap  \\\n",
       "0  [0.3313042994154892, 0.33061939863823764, 0.33...   \n",
       "1  [0.20607289824970965, 0.20656023392145914, 0.2...   \n",
       "2  [0.39849964210332955, 0.3976967603478775, 0.39...   \n",
       "3  [0.25763308598055856, 0.25708181719549955, 0.2...   \n",
       "4  [0.35117942468222907, 0.3504678742505178, 0.35...   \n",
       "\n",
       "                                                ap90  \n",
       "0  [0.12989276429317786, 0.13046486912365637, 0.1...  \n",
       "1  [-0.07141580498769587, -0.07138726677781301, -...  \n",
       "2  [-0.04077345373697253, -0.0406101626655149, -0...  \n",
       "3  [0.029244134641654648, 0.029403017599059004, 0...  \n",
       "4  [0.037814288423547136, 0.038802411760013165, 0...  "
      ],
      "text/html": [
       "<div>\n",
       "<style scoped>\n",
       "    .dataframe tbody tr th:only-of-type {\n",
       "        vertical-align: middle;\n",
       "    }\n",
       "\n",
       "    .dataframe tbody tr th {\n",
       "        vertical-align: top;\n",
       "    }\n",
       "\n",
       "    .dataframe thead th {\n",
       "        text-align: right;\n",
       "    }\n",
       "</style>\n",
       "<table border=\"1\" class=\"dataframe\">\n",
       "  <thead>\n",
       "    <tr style=\"text-align: right;\">\n",
       "      <th></th>\n",
       "      <th>particle</th>\n",
       "      <th>frame</th>\n",
       "      <th>t_s</th>\n",
       "      <th>intensity_from_neighborhood</th>\n",
       "      <th>intensity_std_error_from_neighborhood</th>\n",
       "      <th>x</th>\n",
       "      <th>y</th>\n",
       "      <th>ap</th>\n",
       "      <th>ap90</th>\n",
       "    </tr>\n",
       "  </thead>\n",
       "  <tbody>\n",
       "    <tr>\n",
       "      <th>0</th>\n",
       "      <td>1</td>\n",
       "      <td>[506, 507, 511, 512, 513, 514, 515, 517, 518, ...</td>\n",
       "      <td>[2300.7059993743896, 2304.7430000305176, 2322....</td>\n",
       "      <td>[72.1570804597701, 53.93129347826087, 95.00423...</td>\n",
       "      <td>[25.268212723555116, 24.193128325434877, 23.27...</td>\n",
       "      <td>[425.48808831836254, 423.8314928296911, 425.13...</td>\n",
       "      <td>[221.00383393743027, 221.58308686421765, 221.5...</td>\n",
       "      <td>[0.3313042994154892, 0.33061939863823764, 0.33...</td>\n",
       "      <td>[0.12989276429317786, 0.13046486912365637, 0.1...</td>\n",
       "    </tr>\n",
       "    <tr>\n",
       "      <th>1</th>\n",
       "      <td>2</td>\n",
       "      <td>[460, 461, 462, 463, 464, 465, 466, 467, 468, ...</td>\n",
       "      <td>[2091.4230003356934, 2095.882999420166, 2100.1...</td>\n",
       "      <td>[57.47963945578232, 38.66103448275862, 90.2138...</td>\n",
       "      <td>[27.24615631798166, 25.318037332850935, 24.569...</td>\n",
       "      <td>[122.58614821001362, 123.76488548423376, 126.0...</td>\n",
       "      <td>[17.180038487563998, 17.208933264743397, 18.12...</td>\n",
       "      <td>[0.20607289824970965, 0.20656023392145914, 0.2...</td>\n",
       "      <td>[-0.07141580498769587, -0.07138726677781301, -...</td>\n",
       "    </tr>\n",
       "    <tr>\n",
       "      <th>2</th>\n",
       "      <td>3</td>\n",
       "      <td>[527, 528, 529, 530, 531, 532, 533, 534, 535, ...</td>\n",
       "      <td>[2394.573999404907, 2399.2339992523193, 2403.4...</td>\n",
       "      <td>[67.31827607361961, 10.19521568627451, 67.1475...</td>\n",
       "      <td>[26.219966228377146, 26.957198706766793, 25.65...</td>\n",
       "      <td>[588.016012440591, 586.074051884851, 588.18053...</td>\n",
       "      <td>[48.20524698088067, 48.37057827336589, 48.2503...</td>\n",
       "      <td>[0.39849964210332955, 0.3976967603478775, 0.39...</td>\n",
       "      <td>[-0.04077345373697253, -0.0406101626655149, -0...</td>\n",
       "    </tr>\n",
       "    <tr>\n",
       "      <th>3</th>\n",
       "      <td>4</td>\n",
       "      <td>[572, 573, 574, 576, 577, 578, 580, 581, 582, ...</td>\n",
       "      <td>[2601.6180000305176, 2605.8780002593994, 2610....</td>\n",
       "      <td>[131.19976923076925, 114.73455625, 112.1208231...</td>\n",
       "      <td>[23.632369088123415, 26.48124363284603, 24.361...</td>\n",
       "      <td>[247.29672998614768, 245.9633552657412, 245.16...</td>\n",
       "      <td>[119.09766185700249, 119.2585299587735, 118.06...</td>\n",
       "      <td>[0.25763308598055856, 0.25708181719549955, 0.2...</td>\n",
       "      <td>[0.029244134641654648, 0.029403017599059004, 0...</td>\n",
       "    </tr>\n",
       "    <tr>\n",
       "      <th>4</th>\n",
       "      <td>5</td>\n",
       "      <td>[486, 489, 490, 491, 492, 493, 494, 495, 496, ...</td>\n",
       "      <td>[2211.6900005340576, 2225.287000656128, 2229.7...</td>\n",
       "      <td>[49.39227659574468, 71.93047777777778, 75.6659...</td>\n",
       "      <td>[23.603968369418688, 23.202337971412053, 23.80...</td>\n",
       "      <td>[473.56080767748307, 471.83975365873124, 471.4...</td>\n",
       "      <td>[127.7748944142374, 128.7753637411546, 128.167...</td>\n",
       "      <td>[0.35117942468222907, 0.3504678742505178, 0.35...</td>\n",
       "      <td>[0.037814288423547136, 0.038802411760013165, 0...</td>\n",
       "    </tr>\n",
       "  </tbody>\n",
       "</table>\n",
       "</div>"
      ]
     },
     "execution_count": 28,
     "metadata": {},
     "output_type": "execute_result"
    }
   ],
   "execution_count": 28
  },
  {
   "cell_type": "markdown",
   "metadata": {},
   "source": [
    "## RateExtraction Analysis"
   ]
  },
  {
   "cell_type": "markdown",
   "metadata": {},
   "source": [
    "### Fit and Average"
   ]
  },
  {
   "cell_type": "code",
   "metadata": {
    "ExecuteTime": {
     "end_time": "2024-12-17T00:55:33.517523Z",
     "start_time": "2024-12-17T00:55:33.511559Z"
    }
   },
   "source": [
    "from transcription_pipeline.RateExtraction import FitAndAverage"
   ],
   "outputs": [],
   "execution_count": 29
  },
  {
   "cell_type": "code",
   "metadata": {
    "ExecuteTime": {
     "end_time": "2024-12-17T01:03:22.979158Z",
     "start_time": "2024-12-17T01:02:38.682696Z"
    }
   },
   "source": [
    "faadata = FitAndAverage(compiled_dataframe, nc14_start_frame, 40, num_bins, test_dataset_name)"
   ],
   "outputs": [
    {
     "name": "stdout",
     "output_type": "stream",
     "text": [
      "No previous particle trace fit checking results detected. Do particle trace fitting for the dataframe.\n"
     ]
    },
    {
     "name": "stderr",
     "output_type": "stream",
     "text": [
      "/mnt/Data1/Nick/transcription_pipeline/transcription_pipeline/utils/plottable.py:17: UserWarning: Could not determine division time, using absolute time.\n",
      "  warnings.warn(\"Could not determine division time, using absolute time.\")\n",
      "/mnt/Data1/Nick/miniforge3/envs/transcription_pipeline/lib/python3.10/site-packages/emcee/moves/red_blue.py:99: RuntimeWarning: invalid value encountered in scalar subtract\n",
      "  lnpdiff = f + nlp - state.log_prob[j]\n",
      "/mnt/Data1/Nick/miniforge3/envs/transcription_pipeline/lib/python3.10/site-packages/emcee/moves/red_blue.py:99: RuntimeWarning: invalid value encountered in scalar subtract\n",
      "  lnpdiff = f + nlp - state.log_prob[j]\n"
     ]
    },
    {
     "name": "stdout",
     "output_type": "stream",
     "text": [
      "Failed to find derivative sign change for trace 301\n"
     ]
    },
    {
     "name": "stderr",
     "output_type": "stream",
     "text": [
      "/mnt/Data1/Nick/miniforge3/envs/transcription_pipeline/lib/python3.10/site-packages/emcee/moves/red_blue.py:99: RuntimeWarning: invalid value encountered in scalar subtract\n",
      "  lnpdiff = f + nlp - state.log_prob[j]\n",
      "/mnt/Data1/Nick/miniforge3/envs/transcription_pipeline/lib/python3.10/site-packages/emcee/moves/red_blue.py:99: RuntimeWarning: invalid value encountered in scalar subtract\n",
      "  lnpdiff = f + nlp - state.log_prob[j]\n",
      "/mnt/Data1/Nick/miniforge3/envs/transcription_pipeline/lib/python3.10/site-packages/emcee/moves/red_blue.py:99: RuntimeWarning: invalid value encountered in scalar subtract\n",
      "  lnpdiff = f + nlp - state.log_prob[j]\n",
      "/mnt/Data1/Nick/miniforge3/envs/transcription_pipeline/lib/python3.10/site-packages/emcee/moves/red_blue.py:99: RuntimeWarning: invalid value encountered in scalar subtract\n",
      "  lnpdiff = f + nlp - state.log_prob[j]\n",
      "/mnt/Data1/Nick/miniforge3/envs/transcription_pipeline/lib/python3.10/site-packages/emcee/moves/red_blue.py:99: RuntimeWarning: invalid value encountered in scalar subtract\n",
      "  lnpdiff = f + nlp - state.log_prob[j]\n"
     ]
    },
    {
     "name": "stdout",
     "output_type": "stream",
     "text": [
      "Failed to fit trace 225\n",
      "Failed to fit trace 61\n"
     ]
    },
    {
     "name": "stderr",
     "output_type": "stream",
     "text": [
      "/mnt/Data1/Nick/miniforge3/envs/transcription_pipeline/lib/python3.10/site-packages/emcee/moves/red_blue.py:99: RuntimeWarning: invalid value encountered in scalar subtract\n",
      "  lnpdiff = f + nlp - state.log_prob[j]\n",
      "/mnt/Data1/Nick/miniforge3/envs/transcription_pipeline/lib/python3.10/site-packages/emcee/moves/red_blue.py:99: RuntimeWarning: invalid value encountered in scalar subtract\n",
      "  lnpdiff = f + nlp - state.log_prob[j]\n",
      "/mnt/Data1/Nick/miniforge3/envs/transcription_pipeline/lib/python3.10/site-packages/emcee/moves/red_blue.py:99: RuntimeWarning: invalid value encountered in scalar subtract\n",
      "  lnpdiff = f + nlp - state.log_prob[j]\n",
      "/mnt/Data1/Nick/miniforge3/envs/transcription_pipeline/lib/python3.10/site-packages/emcee/moves/red_blue.py:99: RuntimeWarning: invalid value encountered in scalar subtract\n",
      "  lnpdiff = f + nlp - state.log_prob[j]\n"
     ]
    },
    {
     "name": "stdout",
     "output_type": "stream",
     "text": [
      "Failed to fit trace 183\n"
     ]
    },
    {
     "name": "stderr",
     "output_type": "stream",
     "text": [
      "/mnt/Data1/Nick/miniforge3/envs/transcription_pipeline/lib/python3.10/site-packages/emcee/moves/red_blue.py:99: RuntimeWarning: invalid value encountered in scalar subtract\n",
      "  lnpdiff = f + nlp - state.log_prob[j]\n"
     ]
    },
    {
     "name": "stdout",
     "output_type": "stream",
     "text": [
      "Failed to fit trace 130\n"
     ]
    },
    {
     "name": "stderr",
     "output_type": "stream",
     "text": [
      "/mnt/Data1/Nick/miniforge3/envs/transcription_pipeline/lib/python3.10/site-packages/emcee/moves/red_blue.py:99: RuntimeWarning: invalid value encountered in scalar subtract\n",
      "  lnpdiff = f + nlp - state.log_prob[j]\n",
      "/mnt/Data1/Nick/miniforge3/envs/transcription_pipeline/lib/python3.10/site-packages/emcee/moves/red_blue.py:99: RuntimeWarning: invalid value encountered in scalar subtract\n",
      "  lnpdiff = f + nlp - state.log_prob[j]\n"
     ]
    },
    {
     "name": "stdout",
     "output_type": "stream",
     "text": [
      "Number of traces: 137\n",
      "Number of traces with valid fits: 132\n",
      "Number of traces with invalid fits: 5\n"
     ]
    }
   ],
   "execution_count": 33
  },
  {
   "cell_type": "code",
   "metadata": {
    "ExecuteTime": {
     "end_time": "2024-12-17T18:33:39.716684Z",
     "start_time": "2024-12-17T18:25:33.530559Z"
    }
   },
   "source": "faadata.check_particle_fits()",
   "outputs": [],
   "execution_count": 41
  },
  {
   "cell_type": "code",
   "metadata": {
    "ExecuteTime": {
     "end_time": "2024-12-17T18:25:30.056265Z",
     "start_time": "2024-12-17T18:25:30.041651Z"
    }
   },
   "source": [
    "faadata.save_checked_particle_fits()"
   ],
   "outputs": [
    {
     "name": "stdout",
     "output_type": "stream",
     "text": [
      "Checked particle fits saved\n"
     ]
    }
   ],
   "execution_count": 40
  },
  {
   "cell_type": "code",
   "metadata": {
    "ExecuteTime": {
     "end_time": "2024-12-17T01:03:47.158499Z",
     "start_time": "2024-12-17T01:03:46.846013Z"
    }
   },
   "source": [
    "faadata.average_particle_fits();"
   ],
   "outputs": [
    {
     "ename": "ValueError",
     "evalue": "zero-size array to reduction operation maximum which has no identity",
     "output_type": "error",
     "traceback": [
      "\u001B[0;31m---------------------------------------------------------------------------\u001B[0m",
      "\u001B[0;31mValueError\u001B[0m                                Traceback (most recent call last)",
      "Cell \u001B[0;32mIn[36], line 1\u001B[0m\n\u001B[0;32m----> 1\u001B[0m \u001B[43mfaadata\u001B[49m\u001B[38;5;241;43m.\u001B[39;49m\u001B[43maverage_particle_fits\u001B[49m\u001B[43m(\u001B[49m\u001B[43m)\u001B[49m;\n",
      "File \u001B[0;32m/mnt/Data1/Nick/transcription_pipeline/transcription_pipeline/RateExtraction.py:890\u001B[0m, in \u001B[0;36mFitAndAverage.average_particle_fits\u001B[0;34m(self, plot)\u001B[0m\n\u001B[1;32m    885\u001B[0m         plt\u001B[38;5;241m.\u001B[39mshow()\n\u001B[1;32m    887\u001B[0m     \u001B[38;5;28;01mreturn\u001B[39;00m ap_positions, mean_fit_rates, SE_fit_rates, bin_counts, bin_particles_rates\n\u001B[1;32m    889\u001B[0m ap_positions, mean_fit_rates, SE_fit_rates, bin_counts, bin_particles_rates \u001B[38;5;241m=\u001B[39m (\n\u001B[0;32m--> 890\u001B[0m     \u001B[43mcompute_average_fit_rates_for_bins\u001B[49m\u001B[43m(\u001B[49m\u001B[43mtraces_compiled_dataframe_fits_checked\u001B[49m\u001B[43m,\u001B[49m\u001B[43m \u001B[49m\u001B[38;5;28;43mself\u001B[39;49m\u001B[38;5;241;43m.\u001B[39;49m\u001B[43mbin_num\u001B[49m\u001B[43m)\u001B[49m)\n\u001B[1;32m    892\u001B[0m \u001B[38;5;28;01mreturn\u001B[39;00m ap_positions, mean_fit_rates, SE_fit_rates, bin_counts, bin_particles_rates\n",
      "File \u001B[0;32m/mnt/Data1/Nick/transcription_pipeline/transcription_pipeline/RateExtraction.py:874\u001B[0m, in \u001B[0;36mFitAndAverage.average_particle_fits.<locals>.compute_average_fit_rates_for_bins\u001B[0;34m(input_dataframe, bin_num, plot_result)\u001B[0m\n\u001B[1;32m    871\u001B[0m bin_slopes \u001B[38;5;241m=\u001B[39m mean_fit_rates[not_nan]\n\u001B[1;32m    872\u001B[0m bin_slope_errs \u001B[38;5;241m=\u001B[39m SE_fit_rates[not_nan]\n\u001B[0;32m--> 874\u001B[0m max_bin_slope \u001B[38;5;241m=\u001B[39m \u001B[43mnp\u001B[49m\u001B[38;5;241;43m.\u001B[39;49m\u001B[43mmax\u001B[49m\u001B[43m(\u001B[49m\u001B[43mbin_slopes\u001B[49m\u001B[43m)\u001B[49m\n\u001B[1;32m    875\u001B[0m ylim_up \u001B[38;5;241m=\u001B[39m \u001B[38;5;241m1.5\u001B[39m \u001B[38;5;241m*\u001B[39m max_bin_slope\n\u001B[1;32m    877\u001B[0m \u001B[38;5;28;01mif\u001B[39;00m plot_result:\n\u001B[1;32m    878\u001B[0m     \u001B[38;5;66;03m# Plot the average slope of trace fits for each bin number\u001B[39;00m\n",
      "File \u001B[0;32m/mnt/Data1/Nick/miniforge3/envs/transcription_pipeline/lib/python3.10/site-packages/numpy/core/fromnumeric.py:2810\u001B[0m, in \u001B[0;36mmax\u001B[0;34m(a, axis, out, keepdims, initial, where)\u001B[0m\n\u001B[1;32m   2692\u001B[0m \u001B[38;5;129m@array_function_dispatch\u001B[39m(_max_dispatcher)\n\u001B[1;32m   2693\u001B[0m \u001B[38;5;129m@set_module\u001B[39m(\u001B[38;5;124m'\u001B[39m\u001B[38;5;124mnumpy\u001B[39m\u001B[38;5;124m'\u001B[39m)\n\u001B[1;32m   2694\u001B[0m \u001B[38;5;28;01mdef\u001B[39;00m \u001B[38;5;21mmax\u001B[39m(a, axis\u001B[38;5;241m=\u001B[39m\u001B[38;5;28;01mNone\u001B[39;00m, out\u001B[38;5;241m=\u001B[39m\u001B[38;5;28;01mNone\u001B[39;00m, keepdims\u001B[38;5;241m=\u001B[39mnp\u001B[38;5;241m.\u001B[39m_NoValue, initial\u001B[38;5;241m=\u001B[39mnp\u001B[38;5;241m.\u001B[39m_NoValue,\n\u001B[1;32m   2695\u001B[0m          where\u001B[38;5;241m=\u001B[39mnp\u001B[38;5;241m.\u001B[39m_NoValue):\n\u001B[1;32m   2696\u001B[0m \u001B[38;5;250m    \u001B[39m\u001B[38;5;124;03m\"\"\"\u001B[39;00m\n\u001B[1;32m   2697\u001B[0m \u001B[38;5;124;03m    Return the maximum of an array or maximum along an axis.\u001B[39;00m\n\u001B[1;32m   2698\u001B[0m \n\u001B[0;32m   (...)\u001B[0m\n\u001B[1;32m   2808\u001B[0m \u001B[38;5;124;03m    5\u001B[39;00m\n\u001B[1;32m   2809\u001B[0m \u001B[38;5;124;03m    \"\"\"\u001B[39;00m\n\u001B[0;32m-> 2810\u001B[0m     \u001B[38;5;28;01mreturn\u001B[39;00m \u001B[43m_wrapreduction\u001B[49m\u001B[43m(\u001B[49m\u001B[43ma\u001B[49m\u001B[43m,\u001B[49m\u001B[43m \u001B[49m\u001B[43mnp\u001B[49m\u001B[38;5;241;43m.\u001B[39;49m\u001B[43mmaximum\u001B[49m\u001B[43m,\u001B[49m\u001B[43m \u001B[49m\u001B[38;5;124;43m'\u001B[39;49m\u001B[38;5;124;43mmax\u001B[39;49m\u001B[38;5;124;43m'\u001B[39;49m\u001B[43m,\u001B[49m\u001B[43m \u001B[49m\u001B[43maxis\u001B[49m\u001B[43m,\u001B[49m\u001B[43m \u001B[49m\u001B[38;5;28;43;01mNone\u001B[39;49;00m\u001B[43m,\u001B[49m\u001B[43m \u001B[49m\u001B[43mout\u001B[49m\u001B[43m,\u001B[49m\n\u001B[1;32m   2811\u001B[0m \u001B[43m                          \u001B[49m\u001B[43mkeepdims\u001B[49m\u001B[38;5;241;43m=\u001B[39;49m\u001B[43mkeepdims\u001B[49m\u001B[43m,\u001B[49m\u001B[43m \u001B[49m\u001B[43minitial\u001B[49m\u001B[38;5;241;43m=\u001B[39;49m\u001B[43minitial\u001B[49m\u001B[43m,\u001B[49m\u001B[43m \u001B[49m\u001B[43mwhere\u001B[49m\u001B[38;5;241;43m=\u001B[39;49m\u001B[43mwhere\u001B[49m\u001B[43m)\u001B[49m\n",
      "File \u001B[0;32m/mnt/Data1/Nick/miniforge3/envs/transcription_pipeline/lib/python3.10/site-packages/numpy/core/fromnumeric.py:88\u001B[0m, in \u001B[0;36m_wrapreduction\u001B[0;34m(obj, ufunc, method, axis, dtype, out, **kwargs)\u001B[0m\n\u001B[1;32m     85\u001B[0m         \u001B[38;5;28;01melse\u001B[39;00m:\n\u001B[1;32m     86\u001B[0m             \u001B[38;5;28;01mreturn\u001B[39;00m reduction(axis\u001B[38;5;241m=\u001B[39maxis, out\u001B[38;5;241m=\u001B[39mout, \u001B[38;5;241m*\u001B[39m\u001B[38;5;241m*\u001B[39mpasskwargs)\n\u001B[0;32m---> 88\u001B[0m \u001B[38;5;28;01mreturn\u001B[39;00m \u001B[43mufunc\u001B[49m\u001B[38;5;241;43m.\u001B[39;49m\u001B[43mreduce\u001B[49m\u001B[43m(\u001B[49m\u001B[43mobj\u001B[49m\u001B[43m,\u001B[49m\u001B[43m \u001B[49m\u001B[43maxis\u001B[49m\u001B[43m,\u001B[49m\u001B[43m \u001B[49m\u001B[43mdtype\u001B[49m\u001B[43m,\u001B[49m\u001B[43m \u001B[49m\u001B[43mout\u001B[49m\u001B[43m,\u001B[49m\u001B[43m \u001B[49m\u001B[38;5;241;43m*\u001B[39;49m\u001B[38;5;241;43m*\u001B[39;49m\u001B[43mpasskwargs\u001B[49m\u001B[43m)\u001B[49m\n",
      "\u001B[0;31mValueError\u001B[0m: zero-size array to reduction operation maximum which has no identity"
     ]
    }
   ],
   "execution_count": 36
  },
  {
   "cell_type": "markdown",
   "metadata": {},
   "source": [
    "### Average and Fit"
   ]
  },
  {
   "cell_type": "code",
   "metadata": {},
   "source": [
    "from transcription_pipeline.RateExtraction import AverageAndFit"
   ],
   "outputs": [],
   "execution_count": null
  },
  {
   "cell_type": "code",
   "metadata": {
    "collapsed": true,
    "jupyter": {
     "outputs_hidden": true
    }
   },
   "source": [
    "time_bin_width = dataset.export_frame_metadata[0]['t_s'][1, 0]\n",
    "aafdata = AverageAndFit(compiled_dataframe, nc14_start_frame, time_bin_width, num_bins, test_dataset_name)"
   ],
   "outputs": [],
   "execution_count": null
  },
  {
   "cell_type": "code",
   "metadata": {},
   "source": [
    "aafdata.check_bin_fits()"
   ],
   "outputs": [],
   "execution_count": null
  },
  {
   "cell_type": "code",
   "metadata": {
    "collapsed": true,
    "jupyter": {
     "outputs_hidden": true
    }
   },
   "source": [
    "aafdata.bin_average_fit_dataframe"
   ],
   "outputs": [],
   "execution_count": null
  },
  {
   "cell_type": "code",
   "metadata": {},
   "source": [
    "aafdata.save_checked_bin_fits()"
   ],
   "outputs": [],
   "execution_count": null
  },
  {
   "cell_type": "code",
   "metadata": {},
   "source": [
    "aafdata.plot_bin_fits()"
   ],
   "outputs": [],
   "execution_count": null
  }
 ],
 "metadata": {
  "kernelspec": {
   "display_name": "Python 3 (ipykernel)",
   "language": "python",
   "name": "python3"
  },
  "language_info": {
   "codemirror_mode": {
    "name": "ipython",
    "version": 3
   },
   "file_extension": ".py",
   "mimetype": "text/x-python",
   "name": "python",
   "nbconvert_exporter": "python",
   "pygments_lexer": "ipython3",
   "version": "3.10.11"
  }
 },
 "nbformat": 4,
 "nbformat_minor": 4
}
